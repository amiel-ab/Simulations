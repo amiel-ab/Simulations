{
 "cells": [
  {
   "cell_type": "code",
   "execution_count": 56,
   "id": "df27c681",
   "metadata": {},
   "outputs": [],
   "source": [
    "import MDAnalysis as mda"
   ]
  },
  {
   "cell_type": "code",
   "execution_count": 57,
   "id": "29cb9742",
   "metadata": {},
   "outputs": [],
   "source": [
    "import pandas as pd\n",
    "import numpy as np \n",
    "import matplotlib.pyplot as plt"
   ]
  },
  {
   "cell_type": "code",
   "execution_count": 58,
   "id": "416fa089",
   "metadata": {},
   "outputs": [],
   "source": [
    "\n",
    "import os\n",
    "\n",
    "        \n",
    "root_directory = \"/data3/amiel/notebooks/P454/1stbatch/M2/2pep/\"\n",
    "\n",
    "\n",
    "universes = []\n",
    "\n",
    "# os.walk parcours les fichiers\n",
    "for directory_name, subdirectories, files in os.walk(root_directory):\n",
    "    for file_name in files:\n",
    "        if file_name.endswith('.tpr'):\n",
    "            try:\n",
    "                tpr_file = os.path.join(directory_name, file_name)\n",
    "                xtc_file = os.path.join(directory_name, file_name.replace('.tpr', '.xtc'))\n",
    "                \n",
    "            \n",
    "                u = mda.Universe(tpr_file, xtc_file)\n",
    "                \n",
    "         \n",
    "                universes.append(u)\n",
    "                \n",
    "             \n",
    "                \n",
    "            except Exception as e:\n",
    "                print(f\"Erreur lors du chargement du fichier {file_name}: {e}\")\n"
   ]
  },
  {
   "cell_type": "code",
   "execution_count": 59,
   "id": "4ee19db0",
   "metadata": {},
   "outputs": [
    {
     "data": {
      "text/plain": [
       "[<Universe with 14438 atoms>,\n",
       " <Universe with 14438 atoms>,\n",
       " <Universe with 14438 atoms>]"
      ]
     },
     "execution_count": 59,
     "metadata": {},
     "output_type": "execute_result"
    }
   ],
   "source": [
    "universes"
   ]
  },
  {
   "cell_type": "code",
   "execution_count": 165,
   "id": "0253c815",
   "metadata": {},
   "outputs": [],
   "source": [
    "\n",
    "m=mda.Universe('prod6667W.tpr','prod6667W.xtc')"
   ]
  },
  {
   "cell_type": "code",
   "execution_count": 170,
   "id": "ae5eb744",
   "metadata": {},
   "outputs": [],
   "source": [
    "pep=m.residues[:31]\n",
    "membrane=m.select_atoms('resname POPC & POPS')"
   ]
  },
  {
   "cell_type": "code",
   "execution_count": null,
   "id": "af1a5974",
   "metadata": {},
   "outputs": [],
   "source": []
  },
  {
   "cell_type": "code",
   "execution_count": 4,
   "id": "a5453b7d",
   "metadata": {},
   "outputs": [],
   "source": [
    "#w=mda.Universe('prodreplic2m3.tpr','prodreplic2m3.xtc')"
   ]
  },
  {
   "cell_type": "code",
   "execution_count": 5,
   "id": "9d121e85",
   "metadata": {},
   "outputs": [
    {
     "data": {
      "text/plain": [
       "array(['ALA', 'SER', 'ALA', 'HIS', 'TRP', 'GLY', 'GLN', 'ARG', 'ALA',\n",
       "       'LEU', 'GLN', 'GLY', 'ALA', 'GLN', 'ALA', 'VAL', 'ALA', 'ALA',\n",
       "       'ALA', 'GLN', 'ARG', 'LEU', 'VAL', 'HIS', 'ALA', 'ILE', 'ALA',\n",
       "       'LEU', 'MET', 'THR', 'GLN'], dtype=object)"
      ]
     },
     "execution_count": 5,
     "metadata": {},
     "output_type": "execute_result"
    }
   ],
   "source": [
    "u.residues[:31].resnames"
   ]
  },
  {
   "cell_type": "code",
   "execution_count": 5,
   "id": "9192f4dc",
   "metadata": {},
   "outputs": [
    {
     "name": "stderr",
     "output_type": "stream",
     "text": [
      "/softwares/Anaconda3/2021.11/lib/python3.9/site-packages/MDAnalysis/core/selection.py:521: DeprecationWarning: `np.bool` is a deprecated alias for the builtin `bool`. To silence this warning, use `bool` by itself. Doing this will not modify any behavior and is safe. If you specifically wanted the numpy scalar type, use `np.bool_` here.\n",
      "Deprecated in NumPy 1.20; for more details and guidance: https://numpy.org/devdocs/release/1.20.0-notes.html#deprecations\n",
      "  mask = np.zeros(len(group), dtype=np.bool)\n"
     ]
    },
    {
     "data": {
      "text/plain": [
       "array([ 60,  60,  60, ..., 464, 464, 464])"
      ]
     },
     "execution_count": 5,
     "metadata": {},
     "output_type": "execute_result"
    }
   ],
   "source": [
    "u.select_atoms('resname POPC').resids"
   ]
  },
  {
   "cell_type": "code",
   "execution_count": 14,
   "id": "a28a90cc",
   "metadata": {},
   "outputs": [
    {
     "data": {
      "text/plain": [
       "array(['TRP', 'GLY', 'GLN', 'ARG', 'ALA', 'LEU', 'GLN', 'GLY', 'TRP',\n",
       "       'GLN', 'ALA', 'VAL', 'ALA', 'ALA', 'ALA', 'TRP', 'ARG', 'LEU',\n",
       "       'VAL', 'HIS', 'ALA', 'ILE', 'ALA', 'LEU', 'MET', 'THR', 'GLN',\n",
       "       'PHE', 'GLY', 'ARG', 'TRP'], dtype=object)"
      ]
     },
     "execution_count": 14,
     "metadata": {},
     "output_type": "execute_result"
    }
   ],
   "source": [
    "universes[1].residues[:30].resnames"
   ]
  },
  {
   "cell_type": "code",
   "execution_count": 60,
   "id": "c7023ed4",
   "metadata": {},
   "outputs": [],
   "source": [
    "def z_dis(univ):\n",
    "    \n",
    "    membrane=univ.select_atoms('resname POPC & POPS')\n",
    "    peptide=univ.residues[:30]\n",
    "    \n",
    "    z_displacements = []\n",
    "    time=[]\n",
    "    \n",
    "    for ts in univ.trajectory:\n",
    "\n",
    "        peptide_center_of_mass = peptide.center_of_mass()\n",
    "\n",
    "        membrane_COM=membrane.center_of_mass()\n",
    "        z_displacement = abs(peptide_center_of_mass[2]-membrane_COM[2])\n",
    "        z_displacements.append(z_displacement)\n",
    "        time.append(univ.trajectory.time)\n",
    "    z_displacements = np.array(z_displacements)\n",
    "    z_df=pd.DataFrame(z_displacements,index=time)    \n",
    "    \n",
    "    return z_df"
   ]
  },
  {
   "cell_type": "code",
   "execution_count": 146,
   "id": "66aef267",
   "metadata": {},
   "outputs": [
    {
     "data": {
      "text/html": [
       "<div>\n",
       "<style scoped>\n",
       "    .dataframe tbody tr th:only-of-type {\n",
       "        vertical-align: middle;\n",
       "    }\n",
       "\n",
       "    .dataframe tbody tr th {\n",
       "        vertical-align: top;\n",
       "    }\n",
       "\n",
       "    .dataframe thead th {\n",
       "        text-align: right;\n",
       "    }\n",
       "</style>\n",
       "<table border=\"1\" class=\"dataframe\">\n",
       "  <thead>\n",
       "    <tr style=\"text-align: right;\">\n",
       "      <th></th>\n",
       "    </tr>\n",
       "  </thead>\n",
       "  <tbody>\n",
       "  </tbody>\n",
       "</table>\n",
       "</div>"
      ],
      "text/plain": [
       "Empty DataFrame\n",
       "Columns: []\n",
       "Index: []"
      ]
     },
     "execution_count": 146,
     "metadata": {},
     "output_type": "execute_result"
    }
   ],
   "source": [
    "big_df=pd.DataFrame()\n",
    "big_df"
   ]
  },
  {
   "cell_type": "code",
   "execution_count": 61,
   "id": "6d1e157e",
   "metadata": {},
   "outputs": [
    {
     "name": "stderr",
     "output_type": "stream",
     "text": [
      "/softwares/Anaconda3/2021.11/lib/python3.9/site-packages/MDAnalysis/core/selection.py:521: DeprecationWarning: `np.bool` is a deprecated alias for the builtin `bool`. To silence this warning, use `bool` by itself. Doing this will not modify any behavior and is safe. If you specifically wanted the numpy scalar type, use `np.bool_` here.\n",
      "Deprecated in NumPy 1.20; for more details and guidance: https://numpy.org/devdocs/release/1.20.0-notes.html#deprecations\n",
      "  mask = np.zeros(len(group), dtype=np.bool)\n"
     ]
    }
   ],
   "source": [
    "e=z_dis(universes[0])\n",
    "f=z_dis(universes[1])\n",
    "g=z_dis(universes[2])"
   ]
  },
  {
   "cell_type": "code",
   "execution_count": 10,
   "id": "da3c46e9",
   "metadata": {},
   "outputs": [
    {
     "name": "stderr",
     "output_type": "stream",
     "text": [
      "/softwares/Anaconda3/2021.11/lib/python3.9/site-packages/MDAnalysis/core/selection.py:521: DeprecationWarning: `np.bool` is a deprecated alias for the builtin `bool`. To silence this warning, use `bool` by itself. Doing this will not modify any behavior and is safe. If you specifically wanted the numpy scalar type, use `np.bool_` here.\n",
      "Deprecated in NumPy 1.20; for more details and guidance: https://numpy.org/devdocs/release/1.20.0-notes.html#deprecations\n",
      "  mask = np.zeros(len(group), dtype=np.bool)\n"
     ]
    }
   ],
   "source": [
    "a=z_dis(universes[0])\n",
    "b=z_dis(universes[1])\n",
    "c=z_dis(universes[2])\n",
    "u=z_dis(universes[3])\n",
    "v=z_dis(universes[4])\n",
    "w=z_dis(universes[5])"
   ]
  },
  {
   "cell_type": "code",
   "execution_count": 12,
   "id": "dad11b93",
   "metadata": {},
   "outputs": [],
   "source": [
    "data=[e,f,g]"
   ]
  },
  {
   "cell_type": "code",
   "execution_count": 13,
   "id": "553595a5",
   "metadata": {},
   "outputs": [
    {
     "name": "stdout",
     "output_type": "stream",
     "text": [
      "0    18.915995\n",
      "dtype: float64\n",
      "0    18.922642\n",
      "dtype: float64\n",
      "0    22.431734\n",
      "dtype: float64\n"
     ]
    }
   ],
   "source": [
    "for i in data:\n",
    "    print(i.apply(lambda x: x.mean()))\n",
    "    "
   ]
  },
  {
   "cell_type": "code",
   "execution_count": 112,
   "id": "599e2edf",
   "metadata": {},
   "outputs": [
    {
     "name": "stdout",
     "output_type": "stream",
     "text": [
      "(26.958792022702788, 1.031752324768103)\n",
      "(23.985384911948813, 0.6469306819030329)\n",
      "(23.67905952068113, 0.30653509989546635)\n"
     ]
    }
   ],
   "source": [
    "for i in data:\n",
    "    array=np.array(i)\n",
    "    print(error_estimate(array))\n",
    "    "
   ]
  },
  {
   "cell_type": "code",
   "execution_count": 108,
   "id": "fd7f22cd",
   "metadata": {},
   "outputs": [
    {
     "data": {
      "text/plain": [
       "(0    26.958792\n",
       " dtype: float64,\n",
       " 0   NaN\n",
       " dtype: float64)"
      ]
     },
     "execution_count": 108,
     "metadata": {},
     "output_type": "execute_result"
    }
   ],
   "source": []
  },
  {
   "cell_type": "code",
   "execution_count": 62,
   "id": "7fa7b3d0",
   "metadata": {},
   "outputs": [
    {
     "data": {
      "image/png": "[encoded data removed]",
      "text/plain": [
       "<Figure size 432x288 with 1 Axes>"
      ]
     },
     "metadata": {
      "needs_background": "light"
     },
     "output_type": "display_data"
    }
   ],
   "source": [
    "\n",
    "f.plot(title='Z-translation wild')\n",
    "plt.ylabel('Coordinates (A°)')\n",
    "plt.xlabel('Time (ps)')\n",
    "plt.show();"
   ]
  },
  {
   "cell_type": "code",
   "execution_count": 176,
   "id": "501dcc0e",
   "metadata": {},
   "outputs": [],
   "source": [
    "#old version test\n",
    "z_displacements_mut = []\n",
    "\n",
    "for ts in m.trajectory:\n",
    "\n",
    "    peptide_center_of_mass = pep.center_of_mass()\n",
    "\n",
    "    membrane_COM=membrane.center_of_mass()\n",
    "    #z_displacement = peptide_center_of_mass[2]-membrane_COM[2]\n",
    "    z_displacement = abs(peptide_center_of_mass[2]-membrane_COM[2])\n",
    "    z_displacements_mut.append(z_displacement)\n",
    "\n",
    "\n",
    "z_displacements_mut = np.array(z_displacements_mut)"
   ]
  },
  {
   "cell_type": "code",
   "execution_count": 53,
   "id": "7696529b",
   "metadata": {},
   "outputs": [],
   "source": [
    "#old version test\n",
    "z_displacements = []\n",
    "\n",
    "for ts in w.trajectory:\n",
    "\n",
    "    p454_center_of_mass = p454.center_of_mass()\n",
    "\n",
    "    membrane_COM=membrane_wild.center_of_mass()\n",
    "    z_displacement = abs(p454_center_of_mass[2]-membrane_COM[2])\n",
    "    #z_displacement = p454_center_of_mass[2]-membrane_COM[2]\n",
    "    z_displacements.append(z_displacement)\n",
    "\n",
    "\n",
    "z_displacements = np.array(z_displacements)"
   ]
  },
  {
   "cell_type": "markdown",
   "id": "8d51b8e5",
   "metadata": {},
   "source": [
    " # Averages and Error Estimates"
   ]
  },
  {
   "cell_type": "code",
   "execution_count": 26,
   "id": "76771a44",
   "metadata": {},
   "outputs": [],
   "source": [
    "def error_estimate(array):\n",
    "    \n",
    "    bloc = len(array)/2\n",
    "    err_est = abs((array[0:int(bloc)].mean()) - (array[int(bloc):-1].mean()))\n",
    "    return(err_est)"
   ]
  },
  {
   "cell_type": "code",
   "execution_count": 17,
   "id": "a0524871",
   "metadata": {},
   "outputs": [
    {
     "name": "stdout",
     "output_type": "stream",
     "text": [
      "0   NaN\n",
      "dtype: float64\n"
     ]
    }
   ],
   "source": [
    "print(error_estimate(e))\n",
    "#print(error_estimate(z_displacements_mb))"
   ]
  },
  {
   "cell_type": "code",
   "execution_count": 64,
   "id": "f96be317",
   "metadata": {},
   "outputs": [],
   "source": [
    "data=[e,f,g]"
   ]
  },
  {
   "cell_type": "code",
   "execution_count": 77,
   "id": "a30c27e3",
   "metadata": {},
   "outputs": [],
   "source": [
    "dataTM=[a,b,c]\n",
    "data2pep=[u,v,w]"
   ]
  },
  {
   "cell_type": "code",
   "execution_count": 6,
   "id": "3f7f2ad0",
   "metadata": {},
   "outputs": [
    {
     "name": "stdout",
     "output_type": "stream",
     "text": [
      "Erreur lors du chargement du fichier errest.xvg\n"
     ]
    }
   ],
   "source": [
    "import numpy as np\n",
    "\n",
    "# Chemin du fichier\n",
    "\n",
    "import os\n",
    "\n",
    "        \n",
    "root_directory = \"/data3/amiel/P454/martini2/1stbatch/2_peptides/POPC_POPS/prodrome\"\n",
    "\n",
    "\n",
    "ee_values = []\n",
    "\n",
    "# os.walk parcours les fichiers\n",
    "for directory_name, subdirectories, files in os.walk(root_directory):\n",
    "    for file_name in files:\n",
    "        if file_name.startswith('err'):\n",
    "            file_path = os.path.join(directory_name, file_name)\n",
    "            try:\n",
    "                with open(file_path, 'r') as file:\n",
    "                    for line in file:\n",
    "        # Si la ligne commence par \"@ s1 legend \"ee \", extraire la valeur\n",
    "                        if line.startswith('@ s1 legend \"ee '):\n",
    "                            ee_value = float(line.split('\"')[2])\n",
    "                            ee_values.append(ee_value)\n",
    "\n",
    "# Vérifier si des valeurs \"ee\" ont été trouvées\n",
    "                if ee_values:\n",
    "    # Utiliser NumPy pour effectuer des opérations sur les valeurs si nécessaire\n",
    "                    ee_array = np.array(ee_values)\n",
    "                    average_ee = np.mean(ee_array)\n",
    "                    print(f'The average \"ee\" value is: {average_ee}')\n",
    "                else:\n",
    "                    print('No \"ee\" values found in the file.')\n",
    "\n",
    "                \n",
    "                \n",
    "            except Exception as e:\n",
    "                print(f\"Erreur lors du chargement du fichier {file_name}\")\n",
    "\n",
    "\n",
    "\n",
    "\n"
   ]
  },
  {
   "cell_type": "code",
   "execution_count": 52,
   "id": "270df3be",
   "metadata": {},
   "outputs": [
    {
     "name": "stdout",
     "output_type": "stream",
     "text": [
      "The \"ee\" value is: 0.00577899\n",
      "The \"ee\" value is: 0.0042322\n",
      "The \"ee\" value is: 0.12959\n"
     ]
    }
   ],
   "source": [
    "import numpy as np\n",
    "import os\n",
    "\n",
    "root_directory = \"/data3/amiel/P454/martini2/1stbatch/2_peptides/POPC_POPS/prodrome\"\n",
    "ee_values = []\n",
    "\n",
    "\n",
    "for directory_name, subdirectories, files in os.walk(root_directory):\n",
    "    for file_name in files:\n",
    "        if file_name.startswith('err'):\n",
    "            file_path = os.path.join(directory_name, file_name)\n",
    "            try:\n",
    "                with open(file_path, 'r') as file:\n",
    "                    file_content = file.read()\n",
    "                ee_match = re.search(r'@ s1 legend \"ee (\\d+\\.\\d+)\"', file_content)\n",
    "                if ee_match:\n",
    "                    ee_value = float(ee_match.group(1))\n",
    "                    ee_values.append(ee_value)\n",
    "                    print(f'The \"ee\" value is: {ee_value}')\n",
    "                else:\n",
    "                    print('No \"ee\" value found in the file.')\n",
    "\n",
    "            except Exception as e:\n",
    "                print(f\"Erreur lors du chargement du fichier {file_name}\")\n",
    "\n"
   ]
  },
  {
   "cell_type": "code",
   "execution_count": 53,
   "id": "d6cacb81",
   "metadata": {},
   "outputs": [
    {
     "data": {
      "text/plain": [
       "[0.00577899, 0.0042322, 0.12959]"
      ]
     },
     "execution_count": 53,
     "metadata": {},
     "output_type": "execute_result"
    }
   ],
   "source": [
    "ee_values"
   ]
  },
  {
   "cell_type": "code",
   "execution_count": 23,
   "id": "1a6c7717",
   "metadata": {},
   "outputs": [],
   "source": [
    "%%bash\n",
    "cd /data3/amiel/P454/martini2/1stbatch/2_peptides/POPC_POPS/prodrome/\n",
    "file_path=\"/data3/amiel/P454/martini2/1stbatch/2_peptides/POPC_POPS/prodrome/\"\n",
    "\n"
   ]
  },
  {
   "cell_type": "code",
   "execution_count": 24,
   "id": "3783686a",
   "metadata": {},
   "outputs": [
    {
     "data": {
      "text/plain": [
       "'/data3/amiel/notebooks'"
      ]
     },
     "execution_count": 24,
     "metadata": {},
     "output_type": "execute_result"
    }
   ],
   "source": [
    "pwd"
   ]
  },
  {
   "cell_type": "code",
   "execution_count": 40,
   "id": "6944452f",
   "metadata": {},
   "outputs": [],
   "source": [
    "ee_values = []\n",
    "file_path=\"/data3/amiel/P454/martini2/1stbatch/2_peptides/POPC_POPS/prodrome/replic1/errest.xvg\"\n",
    "with open(file_path, 'r') as file:\n",
    "    for line in file:\n",
    "        if line.startswith('@ s1 legend \"ee '):\n",
    "            parts = line.split('\"')\n",
    "            if len(parts) > 2 and parts[2].strip():  # Vérifiez si la partie après le deuxième guillemet n'est pas une chaîne vide\n",
    "                ee_value = float(parts[2])\n",
    "                ee_values.append(ee_value)\n"
   ]
  },
  {
   "cell_type": "code",
   "execution_count": 45,
   "id": "42976924",
   "metadata": {},
   "outputs": [
    {
     "name": "stdout",
     "output_type": "stream",
     "text": [
      "The \"ee\" value is: 0.0042322\n"
     ]
    }
   ],
   "source": [
    "import re\n",
    "\n",
    "# Read the content of the file\n",
    "  # Replace with the actual file path\n",
    "with open(file_path, 'r') as file:\n",
    "    file_content = file.read()\n",
    "\n",
    "# Use regular expression to find the value associated with \"ee\"\n",
    "ee_match = re.search(r'@ s1 legend \"ee (\\d+\\.\\d+)\"', file_content)\n",
    "\n",
    "# Check if the match is found\n",
    "if ee_match:\n",
    "    ee_value = float(ee_match.group(1))\n",
    "    print(f'The \"ee\" value is: {ee_value}')\n",
    "else:\n",
    "    print('No \"ee\" value found in the file.')\n"
   ]
  },
  {
   "cell_type": "code",
   "execution_count": 22,
   "id": "41244ebb",
   "metadata": {},
   "outputs": [
    {
     "name": "stdout",
     "output_type": "stream",
     "text": [
      "0.17823966369225985\n"
     ]
    }
   ],
   "source": [
    "z=np.array(e)\n",
    "print(error_estimate(z))"
   ]
  },
  {
   "cell_type": "code",
   "execution_count": null,
   "id": "9786da1c",
   "metadata": {},
   "outputs": [],
   "source": [
    "\n",
    "import numpy as np\n",
    "import matplotlib.pyplot as plt\n",
    "\n",
    "# Générer des données aléatoires (à remplacer par vos propres données)\n",
    "\n",
    "\n",
    "# Fonction pour calculer les moyennes par blocs\n",
    "def block_average(data, block_size):\n",
    "    num_blocks = len(data) // block_size\n",
    "    block_means = [np.mean(data[i * block_size:(i + 1) * block_size]) for i in range(num_blocks)]\n",
    "    return block_means\n",
    "\n",
    "# Calcul des moyennes par blocs\n",
    "block_size = 10  # Taille des blocs\n",
    "block_means = block_average(data, block_size)\n",
    "\n",
    "# Calcul de la moyenne globale et de l'écart-type pour l'estimation d'erreur\n",
    "global_mean = np.mean(block_means)\n",
    "global_std = np.std(block_means, ddof=1)  # Utilisation de ddof=1 pour une estimation non biaisée de l'écart-type\n",
    "\n",
    "# Création du graphique avec Matplotlib\n",
    "plt.figure(figsize=(8, 6))\n",
    "\n",
    "# Tracé des données\n",
    "plt.scatter(np.arange(len(block_means)), block_means, label='Block Averages')\n",
    "\n",
    "# Barres d'erreur pour les estimations d'erreur\n",
    "plt.errorbar(0, global_mean, yerr=global_std, fmt='o', color='red', label='Global Mean ± Error')\n",
    "\n",
    "plt.xlabel('Block Index')\n",
    "plt.ylabel('Block Average')\n",
    "plt.title('Block Averaging with Error Estimates')\n",
    "plt.legend()\n",
    "plt.grid(True)\n",
    "plt.show()\n"
   ]
  },
  {
   "cell_type": "code",
   "execution_count": 155,
   "id": "050b3d17",
   "metadata": {},
   "outputs": [],
   "source": [
    "def block_average(data, block_size):\n",
    "    num_blocks = len(data) // block_size\n",
    "    data=np.array(data)\n",
    "    block_means = [np.mean(data[i * block_size:(i + 1) * block_size]) for i in range(num_blocks)]\n",
    "    return block_means"
   ]
  },
  {
   "cell_type": "code",
   "execution_count": 1,
   "id": "a157347b",
   "metadata": {},
   "outputs": [
    {
     "ename": "NameError",
     "evalue": "name 'e' is not defined",
     "output_type": "error",
     "traceback": [
      "\u001b[0;31m---------------------------------------------------------------------------\u001b[0m",
      "\u001b[0;31mNameError\u001b[0m                                 Traceback (most recent call last)",
      "\u001b[0;32m/tmp/ipykernel_34996/795022116.py\u001b[0m in \u001b[0;36m<module>\u001b[0;34m\u001b[0m\n\u001b[1;32m      2\u001b[0m \u001b[0;34m\u001b[0m\u001b[0m\n\u001b[1;32m      3\u001b[0m \u001b[0;34m\u001b[0m\u001b[0m\n\u001b[0;32m----> 4\u001b[0;31m \u001b[0mplot_acf\u001b[0m\u001b[0;34m(\u001b[0m\u001b[0me\u001b[0m\u001b[0;34m[\u001b[0m\u001b[0;36m0\u001b[0m\u001b[0;34m]\u001b[0m\u001b[0;34m)\u001b[0m\u001b[0;34m\u001b[0m\u001b[0;34m\u001b[0m\u001b[0m\n\u001b[0m\u001b[1;32m      5\u001b[0m \u001b[0mplt\u001b[0m\u001b[0;34m.\u001b[0m\u001b[0mshow\u001b[0m\u001b[0;34m(\u001b[0m\u001b[0;34m)\u001b[0m\u001b[0;34m;\u001b[0m\u001b[0;34m\u001b[0m\u001b[0;34m\u001b[0m\u001b[0m\n",
      "\u001b[0;31mNameError\u001b[0m: name 'e' is not defined"
     ]
    }
   ],
   "source": [
    "from statsmodels.graphics.tsaplots import plot_acf\n",
    "\n",
    "\n",
    "plot_acf(e[0])\n",
    "plt.show();"
   ]
  },
  {
   "cell_type": "code",
   "execution_count": 158,
   "id": "ef471efd",
   "metadata": {},
   "outputs": [
    {
     "data": {
      "text/plain": [
       "1000"
      ]
     },
     "execution_count": 158,
     "metadata": {},
     "output_type": "execute_result"
    }
   ],
   "source": [
    "len(block_average(e,10))"
   ]
  },
  {
   "cell_type": "code",
   "execution_count": 82,
   "id": "b23d4c1e",
   "metadata": {},
   "outputs": [
    {
     "name": "stdout",
     "output_type": "stream",
     "text": [
      "[1.32921073729896, 1.3364074962002164, 1.3363654780440495]\n"
     ]
    }
   ],
   "source": [
    "err_values=[]\n",
    "for i in dataTM:\n",
    "    \n",
    "    err_values.append(np.std(i[0]))\n",
    "    \n",
    "print(err_values)"
   ]
  },
  {
   "cell_type": "code",
   "execution_count": 23,
   "id": "38b3f13a",
   "metadata": {},
   "outputs": [
    {
     "name": "stdout",
     "output_type": "stream",
     "text": [
      "0.17823966369225985\n",
      "0.1508077649720363\n",
      "0.8500102304226687\n"
     ]
    }
   ],
   "source": [
    "for i in data:\n",
    "    i=np.array(i)\n",
    "    f= error_estimate(i)\n",
    "    print(f)"
   ]
  },
  {
   "cell_type": "code",
   "execution_count": 68,
   "id": "ab412d36",
   "metadata": {
    "scrolled": true
   },
   "outputs": [
    {
     "data": {
      "image/png": "[encoded data removed]",
      "text/plain": [
       "<Figure size 432x288 with 1 Axes>"
      ]
     },
     "metadata": {
      "needs_background": "light"
     },
     "output_type": "display_data"
    }
   ],
   "source": [
    "mean_values=[]\n",
    "err_values=[]\n",
    "for df in data:\n",
    "    mean_z = df[0].mean()\n",
    "    mean_values.append(mean_z)\n",
    "\n",
    "# Tracé du graphique\n",
    "#plt.figure(figsize=(8, 6))\n",
    "plt.bar([f\"replicate {i+1}\" for i in range(len(data))], mean_values,yerr=ee_values,capsize=24)\n",
    "plt.show();\n"
   ]
  },
  {
   "cell_type": "code",
   "execution_count": 20,
   "id": "f730cc4f",
   "metadata": {},
   "outputs": [
    {
     "data": {
      "image/png": "[encoded data removed]",
      "text/plain": [
       "<Figure size 432x288 with 1 Axes>"
      ]
     },
     "metadata": {
      "needs_background": "light"
     },
     "output_type": "display_data"
    }
   ],
   "source": [
    "mean_values=[]\n",
    "err_values=[]\n",
    "for df in data:\n",
    "    mean_z = df[0].mean()\n",
    "    mean_values.append(mean_z)\n",
    "    df=np.array(df)\n",
    "    err_values.append(np.std(df))\n",
    "# Tracé du graphique\n",
    "#plt.figure(figsize=(8, 6))\n",
    "plt.bar([f\"replicat {i+1}\" for i in range(len(data))], mean_values,yerr=err_values)\n",
    "plt.show();\n"
   ]
  },
  {
   "cell_type": "code",
   "execution_count": 173,
   "id": "3c3ab192",
   "metadata": {},
   "outputs": [
    {
     "data": {
      "image/png": "[encoded data removed]",
      "text/plain": [
       "<Figure size 432x288 with 1 Axes>"
      ]
     },
     "metadata": {
      "needs_background": "light"
     },
     "output_type": "display_data"
    }
   ],
   "source": [
    "\n",
    "mean_values=[]\n",
    "err_values=[]\n",
    "for df in data2pep:\n",
    "    mean_z = df[0].mean()\n",
    "    mean_values.append(mean_z)\n",
    "    df=np.array(df)\n",
    "    err_values.append(np.std(df))\n",
    "    \n",
    "# Tracé du graphique\n",
    "#plt.figure(figsize=(8, 6))\n",
    "plt.bar([f\"peptide {i+1}\" for i in range(len(data2pep))], mean_values,yerr=err_values)\n",
    "\n",
    "plt.show();\n"
   ]
  },
  {
   "cell_type": "code",
   "execution_count": 79,
   "id": "62567534",
   "metadata": {},
   "outputs": [
    {
     "data": {
      "image/png": "[encoded data removed]",
      "text/plain": [
       "<Figure size 432x288 with 1 Axes>"
      ]
     },
     "metadata": {
      "needs_background": "light"
     },
     "output_type": "display_data"
    }
   ],
   "source": [
    "\n",
    "mean_values=[]\n",
    "err_values=[]\n",
    "for df in data2pep:\n",
    "    mean_z = df[0].mean()\n",
    "    mean_values.append(mean_z)\n",
    "    err_values.append(np.std(df[0],ddof=1))\n",
    "# Tracé du graphique\n",
    "#plt.figure(figsize=(8, 6))\n",
    "plt.bar([f\"peptide {i+1}\" for i in range(len(data2pep))], mean_values,yerr=err_values)\n",
    "\n",
    "plt.show();\n"
   ]
  },
  {
   "cell_type": "code",
   "execution_count": 88,
   "id": "7740e37d",
   "metadata": {},
   "outputs": [
    {
     "data": {
      "image/png": "[encoded data removed]",
      "text/plain": [
       "<Figure size 432x288 with 1 Axes>"
      ]
     },
     "metadata": {
      "needs_background": "light"
     },
     "output_type": "display_data"
    },
    {
     "data": {
      "image/png": "[encoded data removed]",
      "text/plain": [
       "<Figure size 432x288 with 1 Axes>"
      ]
     },
     "metadata": {
      "needs_background": "light"
     },
     "output_type": "display_data"
    },
    {
     "data": {
      "image/png": "[encoded data removed]",
      "text/plain": [
       "<Figure size 432x288 with 1 Axes>"
      ]
     },
     "metadata": {
      "needs_background": "light"
     },
     "output_type": "display_data"
    },
    {
     "data": {
      "image/png": "[encoded data removed]",
      "text/plain": [
       "<Figure size 432x288 with 1 Axes>"
      ]
     },
     "metadata": {
      "needs_background": "light"
     },
     "output_type": "display_data"
    },
    {
     "data": {
      "image/png": "[encoded data removed]",
      "text/plain": [
       "<Figure size 432x288 with 1 Axes>"
      ]
     },
     "metadata": {
      "needs_background": "light"
     },
     "output_type": "display_data"
    },
    {
     "data": {
      "image/png": "[encoded data removed]",
      "text/plain": [
       "<Figure size 432x288 with 1 Axes>"
      ]
     },
     "metadata": {
      "needs_background": "light"
     },
     "output_type": "display_data"
    }
   ],
   "source": [
    "for i,df in enumerate(data):\n",
    "    plt.figure()\n",
    "    plt.boxplot(data[i])\n",
    "\n",
    "\n",
    "plt.show();"
   ]
  },
  {
   "cell_type": "code",
   "execution_count": 16,
   "id": "37f8bdb1",
   "metadata": {},
   "outputs": [
    {
     "data": {
      "image/png": "[encoded data removed]",
      "text/plain": [
       "<Figure size 432x288 with 1 Axes>"
      ]
     },
     "metadata": {
      "needs_background": "light"
     },
     "output_type": "display_data"
    },
    {
     "data": {
      "image/png": "[encoded data removed]",
      "text/plain": [
       "<Figure size 432x288 with 1 Axes>"
      ]
     },
     "metadata": {
      "needs_background": "light"
     },
     "output_type": "display_data"
    },
    {
     "data": {
      "image/png": "[encoded data removed]",
      "text/plain": [
       "<Figure size 432x288 with 1 Axes>"
      ]
     },
     "metadata": {
      "needs_background": "light"
     },
     "output_type": "display_data"
    },
    {
     "data": {
      "image/png": "[encoded data removed]",
      "text/plain": [
       "<Figure size 432x288 with 1 Axes>"
      ]
     },
     "metadata": {
      "needs_background": "light"
     },
     "output_type": "display_data"
    },
    {
     "data": {
      "image/png": "[encoded data removed]",
      "text/plain": [
       "<Figure size 432x288 with 1 Axes>"
      ]
     },
     "metadata": {
      "needs_background": "light"
     },
     "output_type": "display_data"
    },
    {
     "data": {
      "image/png": "[encoded data removed]",
      "text/plain": [
       "<Figure size 432x288 with 1 Axes>"
      ]
     },
     "metadata": {
      "needs_background": "light"
     },
     "output_type": "display_data"
    }
   ],
   "source": [
    "for i,df in enumerate(data):\n",
    "    plt.figure()\n",
    "    plt.boxplot(data[i])\n",
    "\n",
    "\n",
    "plt.show();"
   ]
  },
  {
   "cell_type": "code",
   "execution_count": 178,
   "id": "373a0a0d",
   "metadata": {},
   "outputs": [
    {
     "data": {
      "text/plain": [
       "array([18.68720688, 16.88221852, 17.31511397, ..., 19.09015044,\n",
       "       19.03608042, 21.95179202])"
      ]
     },
     "execution_count": 178,
     "metadata": {},
     "output_type": "execute_result"
    }
   ],
   "source": [
    "z_displacements_mut"
   ]
  },
  {
   "cell_type": "code",
   "execution_count": 180,
   "id": "791d892b",
   "metadata": {},
   "outputs": [],
   "source": [
    "\n",
    "time1 = []\n",
    "protein = m.select_atoms(\"protein\")\n",
    "for ts in m.trajectory:\n",
    "    time1.append(m.trajectory.time)\n"
   ]
  },
  {
   "cell_type": "code",
   "execution_count": 181,
   "id": "42f6f032",
   "metadata": {},
   "outputs": [],
   "source": [
    "df_mut=pd.DataFrame(z_displacements_mut,index=time1)"
   ]
  },
  {
   "cell_type": "code",
   "execution_count": 203,
   "id": "3f2eb10a",
   "metadata": {},
   "outputs": [
    {
     "data": {
      "text/html": [
       "<div>\n",
       "<style scoped>\n",
       "    .dataframe tbody tr th:only-of-type {\n",
       "        vertical-align: middle;\n",
       "    }\n",
       "\n",
       "    .dataframe tbody tr th {\n",
       "        vertical-align: top;\n",
       "    }\n",
       "\n",
       "    .dataframe thead th {\n",
       "        text-align: right;\n",
       "    }\n",
       "</style>\n",
       "<table border=\"1\" class=\"dataframe\">\n",
       "  <thead>\n",
       "    <tr style=\"text-align: right;\">\n",
       "      <th></th>\n",
       "      <th>0</th>\n",
       "    </tr>\n",
       "  </thead>\n",
       "  <tbody>\n",
       "    <tr>\n",
       "      <th>0.0</th>\n",
       "      <td>18.687207</td>\n",
       "    </tr>\n",
       "    <tr>\n",
       "      <th>2000.0</th>\n",
       "      <td>16.882219</td>\n",
       "    </tr>\n",
       "    <tr>\n",
       "      <th>4000.0</th>\n",
       "      <td>17.315114</td>\n",
       "    </tr>\n",
       "    <tr>\n",
       "      <th>6000.0</th>\n",
       "      <td>17.362921</td>\n",
       "    </tr>\n",
       "    <tr>\n",
       "      <th>8000.0</th>\n",
       "      <td>18.176737</td>\n",
       "    </tr>\n",
       "    <tr>\n",
       "      <th>...</th>\n",
       "      <td>...</td>\n",
       "    </tr>\n",
       "    <tr>\n",
       "      <th>19992000.0</th>\n",
       "      <td>19.864732</td>\n",
       "    </tr>\n",
       "    <tr>\n",
       "      <th>19994000.0</th>\n",
       "      <td>20.122141</td>\n",
       "    </tr>\n",
       "    <tr>\n",
       "      <th>19996000.0</th>\n",
       "      <td>19.090150</td>\n",
       "    </tr>\n",
       "    <tr>\n",
       "      <th>19998000.0</th>\n",
       "      <td>19.036080</td>\n",
       "    </tr>\n",
       "    <tr>\n",
       "      <th>20000000.0</th>\n",
       "      <td>21.951792</td>\n",
       "    </tr>\n",
       "  </tbody>\n",
       "</table>\n",
       "<p>10001 rows × 1 columns</p>\n",
       "</div>"
      ],
      "text/plain": [
       "                    0\n",
       "0.0         18.687207\n",
       "2000.0      16.882219\n",
       "4000.0      17.315114\n",
       "6000.0      17.362921\n",
       "8000.0      18.176737\n",
       "...               ...\n",
       "19992000.0  19.864732\n",
       "19994000.0  20.122141\n",
       "19996000.0  19.090150\n",
       "19998000.0  19.036080\n",
       "20000000.0  21.951792\n",
       "\n",
       "[10001 rows x 1 columns]"
      ]
     },
     "execution_count": 203,
     "metadata": {},
     "output_type": "execute_result"
    }
   ],
   "source": [
    "df_mut"
   ]
  },
  {
   "cell_type": "code",
   "execution_count": 1,
   "id": "09aa9e31",
   "metadata": {},
   "outputs": [
    {
     "ename": "NameError",
     "evalue": "name 'np' is not defined",
     "output_type": "error",
     "traceback": [
      "\u001b[0;31m---------------------------------------------------------------------------\u001b[0m",
      "\u001b[0;31mNameError\u001b[0m                                 Traceback (most recent call last)",
      "\u001b[0;32m/tmp/ipykernel_312930/4025612102.py\u001b[0m in \u001b[0;36m<module>\u001b[0;34m\u001b[0m\n\u001b[0;32m----> 1\u001b[0;31m \u001b[0merr_values\u001b[0m\u001b[0;34m=\u001b[0m\u001b[0mnp\u001b[0m\u001b[0;34m.\u001b[0m\u001b[0mstd\u001b[0m\u001b[0;34m(\u001b[0m\u001b[0mdf_mut\u001b[0m\u001b[0;34m[\u001b[0m\u001b[0;36m0\u001b[0m\u001b[0;34m]\u001b[0m\u001b[0;34m)\u001b[0m\u001b[0;34m\u001b[0m\u001b[0;34m\u001b[0m\u001b[0m\n\u001b[0m\u001b[1;32m      2\u001b[0m \u001b[0;34m\u001b[0m\u001b[0m\n\u001b[1;32m      3\u001b[0m \u001b[0mplt\u001b[0m\u001b[0;34m.\u001b[0m\u001b[0mfigure\u001b[0m\u001b[0;34m(\u001b[0m\u001b[0mfigsize\u001b[0m\u001b[0;34m=\u001b[0m\u001b[0;34m(\u001b[0m\u001b[0;36m1\u001b[0m\u001b[0;34m,\u001b[0m \u001b[0;36m7\u001b[0m\u001b[0;34m)\u001b[0m\u001b[0;34m)\u001b[0m\u001b[0;34m\u001b[0m\u001b[0;34m\u001b[0m\u001b[0m\n\u001b[1;32m      4\u001b[0m \u001b[0mmean_z\u001b[0m\u001b[0;34m=\u001b[0m\u001b[0mdf_mut\u001b[0m\u001b[0;34m[\u001b[0m\u001b[0;36m0\u001b[0m\u001b[0;34m]\u001b[0m\u001b[0;34m.\u001b[0m\u001b[0mmean\u001b[0m\u001b[0;34m(\u001b[0m\u001b[0;34m)\u001b[0m\u001b[0;34m\u001b[0m\u001b[0;34m\u001b[0m\u001b[0m\n\u001b[1;32m      5\u001b[0m \u001b[0mplt\u001b[0m\u001b[0;34m.\u001b[0m\u001b[0mbar\u001b[0m\u001b[0;34m(\u001b[0m\u001b[0;34m[\u001b[0m\u001b[0;34m'mut6667W'\u001b[0m\u001b[0;34m]\u001b[0m\u001b[0;34m,\u001b[0m\u001b[0mmean_z\u001b[0m\u001b[0;34m,\u001b[0m\u001b[0myerr\u001b[0m\u001b[0;34m=\u001b[0m\u001b[0merr_values\u001b[0m\u001b[0;34m)\u001b[0m\u001b[0;34m\u001b[0m\u001b[0;34m\u001b[0m\u001b[0m\n",
      "\u001b[0;31mNameError\u001b[0m: name 'np' is not defined"
     ]
    }
   ],
   "source": [
    "err_values=np.std(df_mut[0])\n",
    "\n",
    "plt.figure(figsize=(1, 7))\n",
    "mean_z=df_mut[0].mean()\n",
    "plt.bar(['mut6667W'],mean_z,yerr=err_values)\n",
    "plt.show();"
   ]
  },
  {
   "cell_type": "code",
   "execution_count": 30,
   "id": "4c785d0c",
   "metadata": {},
   "outputs": [],
   "source": [
    "z_mut=z_mut.iloc[:2500]"
   ]
  },
  {
   "cell_type": "code",
   "execution_count": 31,
   "id": "c6239bbd",
   "metadata": {},
   "outputs": [],
   "source": [
    "z_df=z_df.iloc[:2500]"
   ]
  },
  {
   "cell_type": "code",
   "execution_count": 47,
   "id": "a06ec79b",
   "metadata": {},
   "outputs": [
    {
     "ename": "NameError",
     "evalue": "name 'z_mut' is not defined",
     "output_type": "error",
     "traceback": [
      "\u001b[0;31m---------------------------------------------------------------------------\u001b[0m",
      "\u001b[0;31mNameError\u001b[0m                                 Traceback (most recent call last)",
      "\u001b[0;32m/tmp/ipykernel_3092882/4196967398.py\u001b[0m in \u001b[0;36m<module>\u001b[0;34m\u001b[0m\n\u001b[0;32m----> 1\u001b[0;31m \u001b[0mz_trans_mb\u001b[0m\u001b[0;34m=\u001b[0m\u001b[0mpd\u001b[0m\u001b[0;34m.\u001b[0m\u001b[0mDataFrame\u001b[0m\u001b[0;34m(\u001b[0m\u001b[0mz_mut\u001b[0m\u001b[0;34m,\u001b[0m\u001b[0mindex\u001b[0m\u001b[0;34m=\u001b[0m\u001b[0mtime\u001b[0m\u001b[0;34m)\u001b[0m\u001b[0;34m\u001b[0m\u001b[0;34m\u001b[0m\u001b[0m\n\u001b[0m\u001b[1;32m      2\u001b[0m \u001b[0mrolling_z\u001b[0m \u001b[0;34m=\u001b[0m \u001b[0mpd\u001b[0m\u001b[0;34m.\u001b[0m\u001b[0mDataFrame\u001b[0m\u001b[0;34m(\u001b[0m\u001b[0mz_mut\u001b[0m\u001b[0;34m.\u001b[0m\u001b[0mrolling\u001b[0m\u001b[0;34m(\u001b[0m\u001b[0;36m50\u001b[0m\u001b[0;34m)\u001b[0m\u001b[0;34m.\u001b[0m\u001b[0mmean\u001b[0m\u001b[0;34m(\u001b[0m\u001b[0;34m)\u001b[0m\u001b[0;34m,\u001b[0m\u001b[0mindex\u001b[0m\u001b[0;34m=\u001b[0m\u001b[0mtime\u001b[0m\u001b[0;34m)\u001b[0m\u001b[0;34m\u001b[0m\u001b[0;34m\u001b[0m\u001b[0m\n\u001b[1;32m      3\u001b[0m \u001b[0mz_trans_mb\u001b[0m\u001b[0;34m.\u001b[0m\u001b[0mplot\u001b[0m\u001b[0;34m(\u001b[0m\u001b[0mtitle\u001b[0m\u001b[0;34m=\u001b[0m\u001b[0;34m'Z-translation mutant'\u001b[0m\u001b[0;34m)\u001b[0m\u001b[0;34m\u001b[0m\u001b[0;34m\u001b[0m\u001b[0m\n\u001b[1;32m      4\u001b[0m \u001b[0mplt\u001b[0m\u001b[0;34m.\u001b[0m\u001b[0mylabel\u001b[0m\u001b[0;34m(\u001b[0m\u001b[0;34m'Coordinates (A°)'\u001b[0m\u001b[0;34m)\u001b[0m\u001b[0;34m\u001b[0m\u001b[0;34m\u001b[0m\u001b[0m\n\u001b[1;32m      5\u001b[0m \u001b[0mplt\u001b[0m\u001b[0;34m.\u001b[0m\u001b[0mxlabel\u001b[0m\u001b[0;34m(\u001b[0m\u001b[0;34m'Time (ps)'\u001b[0m\u001b[0;34m)\u001b[0m\u001b[0;34m\u001b[0m\u001b[0;34m\u001b[0m\u001b[0m\n",
      "\u001b[0;31mNameError\u001b[0m: name 'z_mut' is not defined"
     ]
    }
   ],
   "source": [
    "z_trans_mb=pd.DataFrame(z_mut,index=time)\n",
    "rolling_z = pd.DataFrame(z_mut.rolling(50).mean(),index=time)\n",
    "z_trans_mb.plot(title='Z-translation mutant')\n",
    "plt.ylabel('Coordinates (A°)')\n",
    "plt.xlabel('Time (ps)')\n",
    "z_trans=pd.DataFrame(z_df,index=time1)\n",
    "z_trans.plot(title='Z-translation wild')\n",
    "plt.ylabel('Coordinates (A°)')\n",
    "plt.xlabel('Time (ps)')\n",
    "plt.show();"
   ]
  },
  {
   "cell_type": "code",
   "execution_count": null,
   "id": "775cc04f",
   "metadata": {},
   "outputs": [],
   "source": [
    "z_displacements = []\n",
    "\n",
    "for ts in u.trajectory:\n",
    "\n",
    "    peptide_center_of_mass = pep.center_of_mass()\n",
    "\n",
    "    membrane_COM=membrane_wild.center_of_mass()\n",
    "    z_displacement = peptide_center_of_mass[2]\n",
    "    z_displacements.append(z_displacement)\n",
    "\n",
    "\n",
    "z_displacements = np.array(z_displacements)"
   ]
  },
  {
   "cell_type": "code",
   "execution_count": 79,
   "id": "a56dd4a9",
   "metadata": {},
   "outputs": [],
   "source": [
    "z_mut=z_mut.rename(columns={0:'dis'})\n"
   ]
  },
  {
   "cell_type": "code",
   "execution_count": 84,
   "id": "c89b49c9",
   "metadata": {},
   "outputs": [
    {
     "name": "stderr",
     "output_type": "stream",
     "text": [
      "Exception ignored in: <function ReaderBase.__del__ at 0x7f6a5ed4e790>\n",
      "Traceback (most recent call last):\n",
      "  File \"/softwares/Anaconda3/2021.11/lib/python3.9/site-packages/MDAnalysis/coordinates/base.py\", line 2152, in __del__\n",
      "    self.close()\n",
      "  File \"/softwares/Anaconda3/2021.11/lib/python3.9/site-packages/MDAnalysis/coordinates/XDR.py\", line 179, in close\n",
      "    self._xdr.close()\n",
      "AttributeError: 'XTCReader' object has no attribute '_xdr'\n"
     ]
    },
    {
     "data": {
      "image/png": "[encoded data removed]",
      "text/plain": [
       "<Figure size 432x288 with 1 Axes>"
      ]
     },
     "metadata": {
      "needs_background": "light"
     },
     "output_type": "display_data"
    }
   ],
   "source": [
    "#z_trans_mb=pd.DataFrame(z_mut,index=time)\n",
    "#rolling_z = pd.DataFrame(z_mut.rolling(50).mean(),index=time)\n",
    "rolling_mut=z_mut.rolling(50).mean()\n",
    "plt.plot(z_mut['dis'])\n",
    "plt.plot(rolling_mut, color = \"red\")\n",
    "\n",
    "plt.ylabel('Coordinates (A°)')\n",
    "plt.xlabel('Time (ps)')\n",
    "\n",
    "plt.show();"
   ]
  },
  {
   "cell_type": "code",
   "execution_count": 83,
   "id": "895254df",
   "metadata": {},
   "outputs": [
    {
     "data": {
      "image/png": "[encoded data removed]",
      "text/plain": [
       "<Figure size 432x288 with 1 Axes>"
      ]
     },
     "metadata": {
      "needs_background": "light"
     },
     "output_type": "display_data"
    }
   ],
   "source": [
    "#z_trans=pd.DataFrame(z_df,index=time1)\n",
    "rolling_zdf=z_df.rolling(50).mean()\n",
    "\n",
    "plt.plot(z_df)\n",
    "plt.plot(rolling_zdf['dis'], color = \"red\")\n",
    "\n",
    "plt.ylabel('Coordinates (A°)')\n",
    "plt.xlabel('Time (ps)')\n",
    "\n",
    "plt.show();"
   ]
  },
  {
   "cell_type": "code",
   "execution_count": null,
   "id": "ed660be9",
   "metadata": {},
   "outputs": [],
   "source": [
    "z_trans_mb"
   ]
  },
  {
   "cell_type": "code",
   "execution_count": null,
   "id": "bc7ea677",
   "metadata": {},
   "outputs": [],
   "source": [
    "rolling_z"
   ]
  },
  {
   "cell_type": "code",
   "execution_count": 63,
   "id": "412c7d7b",
   "metadata": {},
   "outputs": [],
   "source": [
    "z_df=z_df.rename(columns={0:'dis'})"
   ]
  },
  {
   "cell_type": "code",
   "execution_count": 95,
   "id": "d336e1ec",
   "metadata": {},
   "outputs": [
    {
     "name": "stdout",
     "output_type": "stream",
     "text": [
      "[120. 120. 120.  90.  90.  90.]\n"
     ]
    }
   ],
   "source": [
    "print(u.dimensions)"
   ]
  },
  {
   "cell_type": "code",
   "execution_count": 96,
   "id": "da1792c1",
   "metadata": {},
   "outputs": [
    {
     "name": "stdout",
     "output_type": "stream",
     "text": [
      "[121.8443 121.8443 109.4176  90.      90.      90.    ]\n"
     ]
    }
   ],
   "source": [
    "print(w.dimensions)"
   ]
  },
  {
   "cell_type": "code",
   "execution_count": 91,
   "id": "503fa7b5",
   "metadata": {
    "scrolled": true
   },
   "outputs": [
    {
     "ename": "ValueError",
     "evalue": "distance_array(): configuration.shape must be (3,) or (n, 3), got (6,).",
     "output_type": "error",
     "traceback": [
      "\u001b[0;31m---------------------------------------------------------------------------\u001b[0m",
      "\u001b[0;31mValueError\u001b[0m                                Traceback (most recent call last)",
      "\u001b[0;32m/tmp/ipykernel_663810/577787742.py\u001b[0m in \u001b[0;36m<module>\u001b[0;34m\u001b[0m\n\u001b[1;32m      2\u001b[0m \u001b[0;34m\u001b[0m\u001b[0m\n\u001b[1;32m      3\u001b[0m \u001b[0;31m# Calculer la distance entre le centre de masse et l'extrémité de la boîte\u001b[0m\u001b[0;34m\u001b[0m\u001b[0;34m\u001b[0m\u001b[0m\n\u001b[0;32m----> 4\u001b[0;31m \u001b[0mdistance\u001b[0m \u001b[0;34m=\u001b[0m \u001b[0mdistances\u001b[0m\u001b[0;34m.\u001b[0m\u001b[0mdistance_array\u001b[0m\u001b[0;34m(\u001b[0m\u001b[0mmembrane_COM\u001b[0m\u001b[0;34m,\u001b[0m \u001b[0mu\u001b[0m\u001b[0;34m.\u001b[0m\u001b[0mdimensions\u001b[0m\u001b[0;34m)\u001b[0m\u001b[0;34m\u001b[0m\u001b[0;34m\u001b[0m\u001b[0m\n\u001b[0m\u001b[1;32m      5\u001b[0m \u001b[0;34m\u001b[0m\u001b[0m\n",
      "\u001b[0;32m/softwares/Anaconda3/2021.11/lib/python3.9/site-packages/MDAnalysis/lib/util.py\u001b[0m in \u001b[0;36mwrapper\u001b[0;34m(*args, **kwargs)\u001b[0m\n\u001b[1;32m   2052\u001b[0m                 \u001b[0midx\u001b[0m \u001b[0;34m=\u001b[0m \u001b[0mposargnames\u001b[0m\u001b[0;34m.\u001b[0m\u001b[0mindex\u001b[0m\u001b[0;34m(\u001b[0m\u001b[0mname\u001b[0m\u001b[0;34m)\u001b[0m\u001b[0;34m\u001b[0m\u001b[0;34m\u001b[0m\u001b[0m\n\u001b[1;32m   2053\u001b[0m                 \u001b[0;32mif\u001b[0m \u001b[0midx\u001b[0m \u001b[0;34m<\u001b[0m \u001b[0mlen\u001b[0m\u001b[0;34m(\u001b[0m\u001b[0margs\u001b[0m\u001b[0;34m)\u001b[0m\u001b[0;34m:\u001b[0m\u001b[0;34m\u001b[0m\u001b[0;34m\u001b[0m\u001b[0m\n\u001b[0;32m-> 2054\u001b[0;31m                     \u001b[0margs\u001b[0m\u001b[0;34m[\u001b[0m\u001b[0midx\u001b[0m\u001b[0;34m]\u001b[0m\u001b[0;34m,\u001b[0m \u001b[0mis_single\u001b[0m \u001b[0;34m=\u001b[0m \u001b[0m_check_coords\u001b[0m\u001b[0;34m(\u001b[0m\u001b[0margs\u001b[0m\u001b[0;34m[\u001b[0m\u001b[0midx\u001b[0m\u001b[0;34m]\u001b[0m\u001b[0;34m,\u001b[0m \u001b[0mname\u001b[0m\u001b[0;34m)\u001b[0m\u001b[0;34m\u001b[0m\u001b[0;34m\u001b[0m\u001b[0m\n\u001b[0m\u001b[1;32m   2055\u001b[0m                     \u001b[0mall_single\u001b[0m \u001b[0;34m&=\u001b[0m \u001b[0mis_single\u001b[0m\u001b[0;34m\u001b[0m\u001b[0;34m\u001b[0m\u001b[0m\n\u001b[1;32m   2056\u001b[0m                     \u001b[0mncoords\u001b[0m\u001b[0;34m.\u001b[0m\u001b[0mappend\u001b[0m\u001b[0;34m(\u001b[0m\u001b[0margs\u001b[0m\u001b[0;34m[\u001b[0m\u001b[0midx\u001b[0m\u001b[0;34m]\u001b[0m\u001b[0;34m.\u001b[0m\u001b[0mshape\u001b[0m\u001b[0;34m[\u001b[0m\u001b[0;36m0\u001b[0m\u001b[0;34m]\u001b[0m\u001b[0;34m)\u001b[0m\u001b[0;34m\u001b[0m\u001b[0;34m\u001b[0m\u001b[0m\n",
      "\u001b[0;32m/softwares/Anaconda3/2021.11/lib/python3.9/site-packages/MDAnalysis/lib/util.py\u001b[0m in \u001b[0;36m_check_coords\u001b[0;34m(coords, argname)\u001b[0m\n\u001b[1;32m   2002\u001b[0m             \u001b[0;32mif\u001b[0m \u001b[0mallow_single\u001b[0m\u001b[0;34m:\u001b[0m\u001b[0;34m\u001b[0m\u001b[0;34m\u001b[0m\u001b[0m\n\u001b[1;32m   2003\u001b[0m                 \u001b[0;32mif\u001b[0m \u001b[0;34m(\u001b[0m\u001b[0mcoords\u001b[0m\u001b[0;34m.\u001b[0m\u001b[0mndim\u001b[0m \u001b[0;32mnot\u001b[0m \u001b[0;32min\u001b[0m \u001b[0;34m(\u001b[0m\u001b[0;36m1\u001b[0m\u001b[0;34m,\u001b[0m \u001b[0;36m2\u001b[0m\u001b[0;34m)\u001b[0m\u001b[0;34m)\u001b[0m \u001b[0;32mor\u001b[0m \u001b[0;34m(\u001b[0m\u001b[0mcoords\u001b[0m\u001b[0;34m.\u001b[0m\u001b[0mshape\u001b[0m\u001b[0;34m[\u001b[0m\u001b[0;34m-\u001b[0m\u001b[0;36m1\u001b[0m\u001b[0;34m]\u001b[0m \u001b[0;34m!=\u001b[0m \u001b[0;36m3\u001b[0m\u001b[0;34m)\u001b[0m\u001b[0;34m:\u001b[0m\u001b[0;34m\u001b[0m\u001b[0;34m\u001b[0m\u001b[0m\n\u001b[0;32m-> 2004\u001b[0;31m                     raise ValueError(\"{}(): {}.shape must be (3,) or (n, 3), \"\n\u001b[0m\u001b[1;32m   2005\u001b[0m                                      \"got {}.\".format(fname, argname,\n\u001b[1;32m   2006\u001b[0m                                                       coords.shape))\n",
      "\u001b[0;31mValueError\u001b[0m: distance_array(): configuration.shape must be (3,) or (n, 3), got (6,)."
     ]
    }
   ],
   "source": [
    "from MDAnalysis.analysis import distances\n",
    "\n",
    "# Calculer la distance entre le centre de masse et l'extrémité de la boîte\n",
    "distance = distances.distance_array(membrane_COM, u.dimensions)\n",
    "\n"
   ]
  }
 ],
 "metadata": {
  "kernelspec": {
   "display_name": "Python 3 (ipykernel)",
   "language": "python",
   "name": "python3"
  },
  "language_info": {
   "codemirror_mode": {
    "name": "ipython",
    "version": 3
   },
   "file_extension": ".py",
   "mimetype": "text/x-python",
   "name": "python",
   "nbconvert_exporter": "python",
   "pygments_lexer": "ipython3",
   "version": "3.9.7"
  }
 },
 "nbformat": 4,
 "nbformat_minor": 5
}
