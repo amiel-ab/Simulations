{
 "cells": [
  {
   "cell_type": "code",
   "execution_count": 1,
   "id": "fd3ebc83",
   "metadata": {},
   "outputs": [
    {
     "name": "stderr",
     "output_type": "stream",
     "text": [
      "/home/aabettan/.local/lib/python3.11/site-packages/MDAnalysis/topology/TPRParser.py:161: DeprecationWarning: 'xdrlib' is deprecated and slated for removal in Python 3.13\n",
      "  import xdrlib\n"
     ]
    }
   ],
   "source": [
    "import MDAnalysis as mda"
   ]
  },
  {
   "cell_type": "code",
   "execution_count": 2,
   "id": "d57de36b",
   "metadata": {},
   "outputs": [
    {
     "name": "stderr",
     "output_type": "stream",
     "text": [
      "MDAnalysis  : INFO     MDAnalysis 2.6.1 STARTED logging to 'MDAnalysis.log'\n",
      "MDAnalysis  : INFO     MDAnalysis 2.6.1 STARTED logging to 'MDAnalysis.log'\n",
      "MDAnalysis  : INFO     MDAnalysis 2.6.1 STARTED logging to 'MDAnalysis.log'\n"
     ]
    }
   ],
   "source": [
    "from membrane_curvature.base import MembraneCurvature"
   ]
  },
  {
   "cell_type": "code",
   "execution_count": 7,
   "id": "b6248087",
   "metadata": {},
   "outputs": [],
   "source": [
    "import os\n",
    "%%bash\n",
    " "
   ]
  },
  {
   "cell_type": "code",
   "execution_count": 17,
   "id": "4e4d3ad7",
   "metadata": {},
   "outputs": [],
   "source": [
    "from MDAnalysis import transformations"
   ]
  },
  {
   "cell_type": "code",
   "execution_count": 14,
   "id": "1e8e3956",
   "metadata": {},
   "outputs": [
    {
     "name": "stdout",
     "output_type": "stream",
     "text": [
      "/data3/amiel/notebooks\n"
     ]
    }
   ],
   "source": [
    "cd /data3/amiel/notebooks"
   ]
  },
  {
   "cell_type": "code",
   "execution_count": 127,
   "id": "bc594981",
   "metadata": {},
   "outputs": [
    {
     "data": {
      "text/plain": [
       "'/data3/amiel/P454/martini2/2_peptides/POPC_POPS'"
      ]
     },
     "execution_count": 127,
     "metadata": {},
     "output_type": "execute_result"
    }
   ],
   "source": [
    "pwd"
   ]
  },
  {
   "cell_type": "code",
   "execution_count": 3,
   "id": "c5e2e1bd",
   "metadata": {},
   "outputs": [
    {
     "name": "stderr",
     "output_type": "stream",
     "text": [
      "MDAnalysis.topology.TPRparser: INFO     Gromacs version   : b'VERSION 2020.7'\n",
      "MDAnalysis.topology.TPRparser: INFO     Gromacs version   : b'VERSION 2020.7'\n",
      "MDAnalysis.topology.TPRparser: INFO     tpx version       : 119\n",
      "MDAnalysis.topology.TPRparser: INFO     tpx version       : 119\n",
      "MDAnalysis.topology.TPRparser: INFO     tpx generation    : 27\n",
      "MDAnalysis.topology.TPRparser: INFO     tpx generation    : 27\n",
      "MDAnalysis.topology.TPRparser: INFO     tpx precision     : 4\n",
      "MDAnalysis.topology.TPRparser: INFO     tpx precision     : 4\n",
      "MDAnalysis.topology.TPRparser: INFO     tpx file_tag      : b'release'\n",
      "MDAnalysis.topology.TPRparser: INFO     tpx file_tag      : b'release'\n",
      "MDAnalysis.topology.TPRparser: INFO     tpx natoms        : 14438\n",
      "MDAnalysis.topology.TPRparser: INFO     tpx natoms        : 14438\n",
      "MDAnalysis.topology.TPRparser: INFO     tpx ngtc          : 1\n",
      "MDAnalysis.topology.TPRparser: INFO     tpx ngtc          : 1\n",
      "MDAnalysis.topology.TPRparser: INFO     tpx fep_state     : 0\n",
      "MDAnalysis.topology.TPRparser: INFO     tpx fep_state     : 0\n",
      "MDAnalysis.topology.TPRparser: INFO     tpx lambda        : 0.0\n",
      "MDAnalysis.topology.TPRparser: INFO     tpx lambda        : 0.0\n"
     ]
    }
   ],
   "source": [
    "u=mda.Universe('prod2P454.tpr','prod2P454centrot.xtc')"
   ]
  },
  {
   "cell_type": "code",
   "execution_count": 15,
   "id": "9c7038ee",
   "metadata": {},
   "outputs": [
    {
     "name": "stderr",
     "output_type": "stream",
     "text": [
      "MDAnalysis.topology.TPRparser: INFO     Gromacs version   : b'VERSION 2020.7'\n",
      "MDAnalysis.topology.TPRparser: INFO     Gromacs version   : b'VERSION 2020.7'\n",
      "MDAnalysis.topology.TPRparser: INFO     tpx version       : 119\n",
      "MDAnalysis.topology.TPRparser: INFO     tpx version       : 119\n",
      "MDAnalysis.topology.TPRparser: INFO     tpx generation    : 27\n",
      "MDAnalysis.topology.TPRparser: INFO     tpx generation    : 27\n",
      "MDAnalysis.topology.TPRparser: INFO     tpx precision     : 4\n",
      "MDAnalysis.topology.TPRparser: INFO     tpx precision     : 4\n",
      "MDAnalysis.topology.TPRparser: INFO     tpx file_tag      : b'release'\n",
      "MDAnalysis.topology.TPRparser: INFO     tpx file_tag      : b'release'\n",
      "MDAnalysis.topology.TPRparser: INFO     tpx natoms        : 14425\n",
      "MDAnalysis.topology.TPRparser: INFO     tpx natoms        : 14425\n",
      "MDAnalysis.topology.TPRparser: INFO     tpx ngtc          : 1\n",
      "MDAnalysis.topology.TPRparser: INFO     tpx ngtc          : 1\n",
      "MDAnalysis.topology.TPRparser: INFO     tpx fep_state     : 0\n",
      "MDAnalysis.topology.TPRparser: INFO     tpx fep_state     : 0\n",
      "MDAnalysis.topology.TPRparser: INFO     tpx lambda        : 0.0\n",
      "MDAnalysis.topology.TPRparser: INFO     tpx lambda        : 0.0\n"
     ]
    }
   ],
   "source": [
    "w=mda.Universe('prod6667W.tpr','prod6667W.xtc')"
   ]
  },
  {
   "cell_type": "code",
   "execution_count": 105,
   "id": "a0411e5f",
   "metadata": {},
   "outputs": [
    {
     "data": {
      "text/plain": [
       "<ResidueGroup with 31 residues>"
      ]
     },
     "execution_count": 105,
     "metadata": {},
     "output_type": "execute_result"
    }
   ],
   "source": [
    "prot=u.residues[:31]\n",
    "prot"
   ]
  },
  {
   "cell_type": "code",
   "execution_count": 120,
   "id": "bdd1089b",
   "metadata": {},
   "outputs": [
    {
     "data": {
      "text/plain": [
       "<AtomGroup with 59 atoms>"
      ]
     },
     "execution_count": 120,
     "metadata": {},
     "output_type": "execute_result"
    }
   ],
   "source": [
    "prot=u.select_atoms('resid 1-31')\n",
    "prot"
   ]
  },
  {
   "cell_type": "code",
   "execution_count": 100,
   "id": "06bf3db5",
   "metadata": {},
   "outputs": [
    {
     "name": "stdout",
     "output_type": "stream",
     "text": [
      "<AtomGroup [<Atom 1: BB of type B of resname ALA, resid 1 and segid SYSTEM>, <Atom 2: BB of type B of resname SER, resid 2 and segid SYSTEM>, <Atom 4: BB of type B of resname ALA, resid 3 and segid SYSTEM>, ..., <Atom 108: BB of type B of resname ILE, resid 57 and segid SYSTEM>, <Atom 110: BB of type B of resname ALA, resid 58 and segid SYSTEM>, <Atom 111: BB of type B of resname LEU, resid 59 and segid SYSTEM>]>\n"
     ]
    }
   ],
   "source": [
    "print(protein.select_atoms('name BB'))\n"
   ]
  },
  {
   "cell_type": "code",
   "execution_count": 121,
   "id": "4632eacc",
   "metadata": {},
   "outputs": [
    {
     "data": {
      "text/plain": [
       "<AtomGroup with 31 atoms>"
      ]
     },
     "execution_count": 121,
     "metadata": {},
     "output_type": "execute_result"
    }
   ],
   "source": [
    "ref= u.select_atoms('resid 1-31 and name BB')\n",
    "ref"
   ]
  },
  {
   "cell_type": "code",
   "execution_count": 124,
   "id": "1ac32907",
   "metadata": {},
   "outputs": [],
   "source": [
    "\n",
    "workflow_fit = (transformations.center_in_box(prot, center='mass'),\n",
    "                transformations.fit_rot_trans(prot, prot, plane='xy'))\n",
    "\n",
    "u.trajectory.add_transformations(*workflow_fit)"
   ]
  },
  {
   "cell_type": "code",
   "execution_count": 4,
   "id": "387959c2",
   "metadata": {},
   "outputs": [
    {
     "name": "stdout",
     "output_type": "stream",
     "text": [
      "Universe info:\n",
      "\n",
      "Box dimensions[x,y,z]: [120.29225 120.29225 112.95345].\n",
      "\n",
      "9454 lipid residues and 14438 beads.\n",
      "\n",
      "Lipid types: \n",
      "-GLY\n",
      "-SER\n",
      "-LEU\n",
      "-POPS\n",
      "-ILE\n",
      "-VAL\n",
      "-ALA\n",
      "-THR\n",
      "-HIS\n",
      "-GLN\n",
      "-ION\n",
      "-MET\n",
      "-ARG\n",
      "-POPC\n",
      "-TRP\n",
      "-W\n",
      "\n",
      "The trajectory includes 8822 frames.\n"
     ]
    }
   ],
   "source": [
    "print(\"Universe info:\")\n",
    "print(\"\\nBox dimensions[x,y,z]: {}.\" \\\n",
    "      \"\".format(u.dimensions[:3]))\n",
    "\n",
    "print(\"\\n{} lipid residues and {} beads.\" \\\n",
    "      \"\".format(u.residues.n_residues, u.residues.n_atoms))\n",
    "\n",
    "print(\"\\nLipid types: \")\n",
    "[print(\"-\"+lipid) for lipid in set(u.residues.resnames)]\n",
    "\n",
    "print(\"\\nThe trajectory includes {} frames.\"\\\n",
    "      \"\".format(u.trajectory.n_frames))"
   ]
  },
  {
   "cell_type": "code",
   "execution_count": 5,
   "id": "a2ce0637",
   "metadata": {},
   "outputs": [
    {
     "data": {
      "application/vnd.jupyter.widget-view+json": {
       "model_id": "8ec2e627801f4fbcb4d429e13563eb9e",
       "version_major": 2,
       "version_minor": 0
      },
      "text/plain": []
     },
     "metadata": {},
     "output_type": "display_data"
    }
   ],
   "source": [
    "import nglview as nv\n",
    "import numpy as np\n",
    "def color_by_resname(system, zoom, color_, box=False):\n",
    "\n",
    "\n",
    "    view = nv.show_mdanalysis(system)\n",
    "    #view.add_representation('ball+stick', selection='not CHOL', radius=0.5, color=\"grey\")\n",
    "    view.add_representation('ball+stick', selection='.PO4', radius=2.00, color=color_)\n",
    "    #view.add_representation('ball+stick', selection='not POPC and not POPS', radius=0.5, color=\"yellow\")\n",
    "    #view.add_representation('ball+stick', selection='POPS', radius=2.00, color=\"orange\")\n",
    "    #view.add_representation('ball+stick', selection='POPC', radius=2.00, color=\"brown\")\n",
    "    if box == True:\n",
    "        view.add_unitcell()\n",
    "\n",
    "    view.camera='orthographic'\n",
    "    view.control.zoom(zoom)\n",
    "    view.control.rotate(\n",
    "         mda.lib.transformations.quaternion_from_euler(\n",
    "             -np.pi/2, np.pi/3, np.pi/12, 'rzyz').tolist())\n",
    "\n",
    "\n",
    "    return view"
   ]
  },
  {
   "cell_type": "code",
   "execution_count": 6,
   "id": "27b8ff94",
   "metadata": {},
   "outputs": [
    {
     "data": {
      "application/vnd.jupyter.widget-view+json": {
       "model_id": "df536212430b4c2e88f328595fc25028",
       "version_major": 2,
       "version_minor": 0
      },
      "text/plain": [
       "NGLWidget(max_frame=8821)"
      ]
     },
     "metadata": {},
     "output_type": "display_data"
    }
   ],
   "source": [
    "color_by_resname(u, 0.5, \"brown\")"
   ]
  },
  {
   "cell_type": "code",
   "execution_count": 20,
   "id": "177ceaff",
   "metadata": {},
   "outputs": [],
   "source": [
    "from MDAnalysis.analysis.leaflet import LeafletFinder\n",
    "L=LeafletFinder(u,'name PO4')\n",
    "up_leaflet=L.groups(0)\n",
    "low_leaflet=L.groups(1)"
   ]
  },
  {
   "cell_type": "code",
   "execution_count": 18,
   "id": "a6efbadf",
   "metadata": {},
   "outputs": [],
   "source": [
    "from MDAnalysis.analysis.leaflet import LeafletFinder\n",
    "l=LeafletFinder(w,'name PO4')\n",
    "up_leaf=l.groups(0)\n",
    "low_leaf=l.groups(1)"
   ]
  },
  {
   "cell_type": "code",
   "execution_count": 21,
   "id": "2ba53367",
   "metadata": {},
   "outputs": [],
   "source": [
    "list_leaflets = [up_leaflet.residues.resids,\n",
    "                     low_leaflet.residues.resids]"
   ]
  },
  {
   "cell_type": "code",
   "execution_count": 24,
   "id": "3bf31e8b",
   "metadata": {},
   "outputs": [],
   "source": [
    "list_leaf = [up_leaf.residues.resids,\n",
    "                     low_leaf.residues.resids]"
   ]
  },
  {
   "cell_type": "code",
   "execution_count": 22,
   "id": "c4157a5e",
   "metadata": {},
   "outputs": [
    {
     "name": "stdout",
     "output_type": "stream",
     "text": [
      "Lower leaflet includes resid 63-287 and a total of 225 elements.\n",
      "Upper leaflet includes resid 288-510 and a total of 223 elements.\n"
     ]
    }
   ],
   "source": [
    "leaflets=[\"Lower\",\"Upper\"]\n",
    "\n",
    "for name, lf in zip(leaflets,list_leaflets):\n",
    "    print(\"{} leaflet includes resid {}-{} \"  \\\n",
    "          \"and a total of {} elements.\".format(name,\n",
    "                                               lf[0],\n",
    "                                               lf[-1],\n",
    "                                               len(lf)))"
   ]
  },
  {
   "cell_type": "code",
   "execution_count": 25,
   "id": "613ffcd6",
   "metadata": {},
   "outputs": [
    {
     "name": "stdout",
     "output_type": "stream",
     "text": [
      "Lower leaflet includes resid 61-285 and a total of 225 elements.\n",
      "Upper leaflet includes resid 286-510 and a total of 225 elements.\n"
     ]
    }
   ],
   "source": [
    "leaflets=[\"Lower\",\"Upper\"]\n",
    "\n",
    "for name, lf in zip(leaflets,list_leaf):\n",
    "    print(\"{} leaflet includes resid {}-{} \"  \\\n",
    "          \"and a total of {} elements.\".format(name,\n",
    "                                               lf[0],\n",
    "                                               lf[-1],\n",
    "                                               len(lf)))"
   ]
  },
  {
   "cell_type": "code",
   "execution_count": null,
   "id": "17909f61",
   "metadata": {},
   "outputs": [],
   "source": []
  },
  {
   "cell_type": "code",
   "execution_count": null,
   "id": "98480426",
   "metadata": {},
   "outputs": [],
   "source": []
  },
  {
   "cell_type": "code",
   "execution_count": null,
   "id": "9e7f9661",
   "metadata": {},
   "outputs": [],
   "source": []
  },
  {
   "cell_type": "code",
   "execution_count": 11,
   "id": "af9df34d",
   "metadata": {},
   "outputs": [
    {
     "name": "stderr",
     "output_type": "stream",
     "text": [
      "/softwares/Anaconda3/2023.07/lib/python3.11/site-packages/membrane_curvature/base.py:161: UserWarning:  `wrap == False` may result in inaccurate calculation of membrane curvature. Surfaces will be derived from a reduced number of atoms. \n",
      "  Ignore this warning if your trajectory has  rotational/translational fit rotations! \n",
      "  warnings.warn(msg)\n",
      "MDAnalysis.MDAKit.membrane_curvature: WARNING   `wrap == False` may result in inaccurate calculation of membrane curvature. Surfaces will be derived from a reduced number of atoms. \n",
      "  Ignore this warning if your trajectory has  rotational/translational fit rotations! \n",
      "MDAnalysis.MDAKit.membrane_curvature: WARNING   `wrap == False` may result in inaccurate calculation of membrane curvature. Surfaces will be derived from a reduced number of atoms. \n",
      "  Ignore this warning if your trajectory has  rotational/translational fit rotations! \n",
      "MDAnalysis.analysis.base: INFO     Choosing frames to analyze\n",
      "MDAnalysis.analysis.base: INFO     Choosing frames to analyze\n",
      "MDAnalysis.analysis.base: INFO     Starting preparation\n",
      "MDAnalysis.analysis.base: INFO     Starting preparation\n",
      "MDAnalysis.analysis.base: INFO     Starting analysis loop over 8822 trajectory frames\n",
      "MDAnalysis.analysis.base: INFO     Starting analysis loop over 8822 trajectory frames\n",
      "/softwares/Anaconda3/2023.07/lib/python3.11/site-packages/membrane_curvature/surface.py:41: UserWarning: Atom coordinates exceed size of grid and element (13,4) can't be assigned. Maximum (x,y) coordinates must be < (120.88674926757812, 120.88674926757812). Skipping atom.\n",
      "  warnings.warn(self.msg.format(*args))\n",
      "MDAnalysis.MDAKit.membrane_curvature: WARNING  Atom coordinates exceed size of grid and element (13,4) can't be assigned. Maximum (x,y) coordinates must be < (120.88674926757812, 120.88674926757812). Skipping atom.\n",
      "MDAnalysis.MDAKit.membrane_curvature: WARNING  Atom coordinates exceed size of grid and element (13,4) can't be assigned. Maximum (x,y) coordinates must be < (120.88674926757812, 120.88674926757812). Skipping atom.\n",
      "/softwares/Anaconda3/2023.07/lib/python3.11/site-packages/membrane_curvature/surface.py:44: UserWarning: More than one atom exceed boundaries of grid.\n",
      "  warnings.warn(self.msg_multiple)\n",
      "/softwares/Anaconda3/2023.07/lib/python3.11/site-packages/membrane_curvature/surface.py:41: UserWarning: Atom with negative coordinates falls outside grid boundaries. Element (-2,5) in grid can't be assigned. Skipping atom.\n",
      "  warnings.warn(self.msg.format(*args))\n",
      "MDAnalysis.MDAKit.membrane_curvature: WARNING  Atom with negative coordinates falls outside grid boundaries. Element (-2,5) in grid can't be assigned. Skipping atom.\n",
      "MDAnalysis.MDAKit.membrane_curvature: WARNING  Atom with negative coordinates falls outside grid boundaries. Element (-2,5) in grid can't be assigned. Skipping atom.\n",
      "MDAnalysis.analysis.base: INFO     Finishing up\n",
      "MDAnalysis.analysis.base: INFO     Finishing up\n",
      "MDAnalysis.MDAKit.membrane_curvature: WARNING   `wrap == False` may result in inaccurate calculation of membrane curvature. Surfaces will be derived from a reduced number of atoms. \n",
      "  Ignore this warning if your trajectory has  rotational/translational fit rotations! \n",
      "MDAnalysis.MDAKit.membrane_curvature: WARNING   `wrap == False` may result in inaccurate calculation of membrane curvature. Surfaces will be derived from a reduced number of atoms. \n",
      "  Ignore this warning if your trajectory has  rotational/translational fit rotations! \n",
      "MDAnalysis.analysis.base: INFO     Choosing frames to analyze\n",
      "MDAnalysis.analysis.base: INFO     Choosing frames to analyze\n",
      "MDAnalysis.analysis.base: INFO     Starting preparation\n",
      "MDAnalysis.analysis.base: INFO     Starting preparation\n",
      "MDAnalysis.analysis.base: INFO     Starting analysis loop over 8822 trajectory frames\n",
      "MDAnalysis.analysis.base: INFO     Starting analysis loop over 8822 trajectory frames\n",
      "MDAnalysis.analysis.base: INFO     Finishing up\n",
      "MDAnalysis.analysis.base: INFO     Finishing up\n"
     ]
    }
   ],
   "source": [
    "mc_upper = MembraneCurvature(u, \n",
    "                             select=\"resid 32-256 and name PO4\",\n",
    "                             n_x_bins=12, \n",
    "                             n_y_bins=12,wrap=False).run()\n",
    "\n",
    "mc_lower = MembraneCurvature(u, \n",
    "                             select='resid 257-479 and name PO4', \n",
    "                             n_x_bins=12, \n",
    "                             n_y_bins=12,wrap=False).run()"
   ]
  },
  {
   "cell_type": "code",
   "execution_count": 26,
   "id": "79204f13",
   "metadata": {},
   "outputs": [
    {
     "name": "stderr",
     "output_type": "stream",
     "text": [
      "/softwares/Anaconda3/2023.07/lib/python3.11/site-packages/membrane_curvature/base.py:161: UserWarning:  `wrap == False` may result in inaccurate calculation of membrane curvature. Surfaces will be derived from a reduced number of atoms. \n",
      "  Ignore this warning if your trajectory has  rotational/translational fit rotations! \n",
      "  warnings.warn(msg)\n",
      "MDAnalysis.MDAKit.membrane_curvature: WARNING   `wrap == False` may result in inaccurate calculation of membrane curvature. Surfaces will be derived from a reduced number of atoms. \n",
      "  Ignore this warning if your trajectory has  rotational/translational fit rotations! \n",
      "MDAnalysis.MDAKit.membrane_curvature: WARNING   `wrap == False` may result in inaccurate calculation of membrane curvature. Surfaces will be derived from a reduced number of atoms. \n",
      "  Ignore this warning if your trajectory has  rotational/translational fit rotations! \n",
      "MDAnalysis.analysis.base: INFO     Choosing frames to analyze\n",
      "MDAnalysis.analysis.base: INFO     Choosing frames to analyze\n",
      "MDAnalysis.analysis.base: INFO     Starting preparation\n",
      "MDAnalysis.analysis.base: INFO     Starting preparation\n",
      "MDAnalysis.analysis.base: INFO     Starting analysis loop over 10001 trajectory frames\n",
      "MDAnalysis.analysis.base: INFO     Starting analysis loop over 10001 trajectory frames\n",
      "/softwares/Anaconda3/2023.07/lib/python3.11/site-packages/membrane_curvature/surface.py:44: UserWarning: More than one atom exceed boundaries of grid.\n",
      "  warnings.warn(self.msg_multiple)\n",
      "MDAnalysis.analysis.base: INFO     Finishing up\n",
      "MDAnalysis.analysis.base: INFO     Finishing up\n",
      "MDAnalysis.MDAKit.membrane_curvature: WARNING   `wrap == False` may result in inaccurate calculation of membrane curvature. Surfaces will be derived from a reduced number of atoms. \n",
      "  Ignore this warning if your trajectory has  rotational/translational fit rotations! \n",
      "MDAnalysis.MDAKit.membrane_curvature: WARNING   `wrap == False` may result in inaccurate calculation of membrane curvature. Surfaces will be derived from a reduced number of atoms. \n",
      "  Ignore this warning if your trajectory has  rotational/translational fit rotations! \n",
      "MDAnalysis.analysis.base: INFO     Choosing frames to analyze\n",
      "MDAnalysis.analysis.base: INFO     Choosing frames to analyze\n",
      "MDAnalysis.analysis.base: INFO     Starting preparation\n",
      "MDAnalysis.analysis.base: INFO     Starting preparation\n",
      "MDAnalysis.analysis.base: INFO     Starting analysis loop over 10001 trajectory frames\n",
      "MDAnalysis.analysis.base: INFO     Starting analysis loop over 10001 trajectory frames\n"
     ]
    },
    {
     "ename": "KeyboardInterrupt",
     "evalue": "",
     "output_type": "error",
     "traceback": [
      "\u001b[0;31m---------------------------------------------------------------------------\u001b[0m",
      "\u001b[0;31mKeyboardInterrupt\u001b[0m                         Traceback (most recent call last)",
      "Cell \u001b[0;32mIn[26], line 9\u001b[0m\n\u001b[1;32m      1\u001b[0m mc_upper \u001b[38;5;241m=\u001b[39m MembraneCurvature(w, \n\u001b[1;32m      2\u001b[0m                              select\u001b[38;5;241m=\u001b[39m\u001b[38;5;124m\"\u001b[39m\u001b[38;5;124mresid 32-256 and name PO4\u001b[39m\u001b[38;5;124m\"\u001b[39m,\n\u001b[1;32m      3\u001b[0m                              n_x_bins\u001b[38;5;241m=\u001b[39m\u001b[38;5;241m12\u001b[39m, \n\u001b[1;32m      4\u001b[0m                              n_y_bins\u001b[38;5;241m=\u001b[39m\u001b[38;5;241m12\u001b[39m,wrap\u001b[38;5;241m=\u001b[39m\u001b[38;5;28;01mFalse\u001b[39;00m)\u001b[38;5;241m.\u001b[39mrun()\n\u001b[1;32m      6\u001b[0m mc_lower \u001b[38;5;241m=\u001b[39m MembraneCurvature(w, \n\u001b[1;32m      7\u001b[0m                              select\u001b[38;5;241m=\u001b[39m\u001b[38;5;124m'\u001b[39m\u001b[38;5;124mresid 257-479 and name PO4\u001b[39m\u001b[38;5;124m'\u001b[39m, \n\u001b[1;32m      8\u001b[0m                              n_x_bins\u001b[38;5;241m=\u001b[39m\u001b[38;5;241m12\u001b[39m, \n\u001b[0;32m----> 9\u001b[0m                              n_y_bins\u001b[38;5;241m=\u001b[39m\u001b[38;5;241m12\u001b[39m,wrap\u001b[38;5;241m=\u001b[39m\u001b[38;5;28;01mFalse\u001b[39;00m)\u001b[38;5;241m.\u001b[39mrun()\n",
      "File \u001b[0;32m~/.local/lib/python3.11/site-packages/MDAnalysis/analysis/base.py:440\u001b[0m, in \u001b[0;36mAnalysisBase.run\u001b[0;34m(self, start, stop, step, frames, verbose, progressbar_kwargs)\u001b[0m\n\u001b[1;32m    436\u001b[0m \u001b[38;5;28mself\u001b[39m\u001b[38;5;241m.\u001b[39m_prepare()\n\u001b[1;32m    437\u001b[0m logger\u001b[38;5;241m.\u001b[39minfo(\u001b[38;5;124m\"\u001b[39m\u001b[38;5;124mStarting analysis loop over \u001b[39m\u001b[38;5;132;01m%d\u001b[39;00m\u001b[38;5;124m trajectory frames\u001b[39m\u001b[38;5;124m\"\u001b[39m,\n\u001b[1;32m    438\u001b[0m             \u001b[38;5;28mself\u001b[39m\u001b[38;5;241m.\u001b[39mn_frames)\n\u001b[0;32m--> 440\u001b[0m \u001b[38;5;28;01mfor\u001b[39;00m i, ts \u001b[38;5;129;01min\u001b[39;00m \u001b[38;5;28menumerate\u001b[39m(ProgressBar(\n\u001b[1;32m    441\u001b[0m         \u001b[38;5;28mself\u001b[39m\u001b[38;5;241m.\u001b[39m_sliced_trajectory,\n\u001b[1;32m    442\u001b[0m         verbose\u001b[38;5;241m=\u001b[39mverbose,\n\u001b[1;32m    443\u001b[0m         \u001b[38;5;241m*\u001b[39m\u001b[38;5;241m*\u001b[39mprogressbar_kwargs)):\n\u001b[1;32m    444\u001b[0m     \u001b[38;5;28mself\u001b[39m\u001b[38;5;241m.\u001b[39m_frame_index \u001b[38;5;241m=\u001b[39m i\n\u001b[1;32m    445\u001b[0m     \u001b[38;5;28mself\u001b[39m\u001b[38;5;241m.\u001b[39m_ts \u001b[38;5;241m=\u001b[39m ts\n",
      "File \u001b[0;32m/softwares/Anaconda3/2023.07/lib/python3.11/site-packages/tqdm/notebook.py:254\u001b[0m, in \u001b[0;36mtqdm_notebook.__iter__\u001b[0;34m(self)\u001b[0m\n\u001b[1;32m    252\u001b[0m \u001b[38;5;28;01mtry\u001b[39;00m:\n\u001b[1;32m    253\u001b[0m     it \u001b[38;5;241m=\u001b[39m \u001b[38;5;28msuper\u001b[39m(tqdm_notebook, \u001b[38;5;28mself\u001b[39m)\u001b[38;5;241m.\u001b[39m\u001b[38;5;21m__iter__\u001b[39m()\n\u001b[0;32m--> 254\u001b[0m     \u001b[38;5;28;01mfor\u001b[39;00m obj \u001b[38;5;129;01min\u001b[39;00m it:\n\u001b[1;32m    255\u001b[0m         \u001b[38;5;66;03m# return super(tqdm...) will not catch exception\u001b[39;00m\n\u001b[1;32m    256\u001b[0m         \u001b[38;5;28;01myield\u001b[39;00m obj\n\u001b[1;32m    257\u001b[0m \u001b[38;5;66;03m# NB: except ... [ as ...] breaks IPython async KeyboardInterrupt\u001b[39;00m\n",
      "File \u001b[0;32m/softwares/Anaconda3/2023.07/lib/python3.11/site-packages/tqdm/std.py:1166\u001b[0m, in \u001b[0;36mtqdm.__iter__\u001b[0;34m(self)\u001b[0m\n\u001b[1;32m   1163\u001b[0m \u001b[38;5;66;03m# If the bar is disabled, then just walk the iterable\u001b[39;00m\n\u001b[1;32m   1164\u001b[0m \u001b[38;5;66;03m# (note: keep this check outside the loop for performance)\u001b[39;00m\n\u001b[1;32m   1165\u001b[0m \u001b[38;5;28;01mif\u001b[39;00m \u001b[38;5;28mself\u001b[39m\u001b[38;5;241m.\u001b[39mdisable:\n\u001b[0;32m-> 1166\u001b[0m     \u001b[38;5;28;01mfor\u001b[39;00m obj \u001b[38;5;129;01min\u001b[39;00m iterable:\n\u001b[1;32m   1167\u001b[0m         \u001b[38;5;28;01myield\u001b[39;00m obj\n\u001b[1;32m   1168\u001b[0m     \u001b[38;5;28;01mreturn\u001b[39;00m\n",
      "File \u001b[0;32m~/.local/lib/python3.11/site-packages/MDAnalysis/coordinates/base.py:714\u001b[0m, in \u001b[0;36mProtoReader.__next__\u001b[0;34m(self)\u001b[0m\n\u001b[1;32m    712\u001b[0m \u001b[38;5;28;01mdef\u001b[39;00m \u001b[38;5;21m__next__\u001b[39m(\u001b[38;5;28mself\u001b[39m) \u001b[38;5;241m-\u001b[39m\u001b[38;5;241m>\u001b[39m Timestep:\n\u001b[1;32m    713\u001b[0m \u001b[38;5;250m    \u001b[39m\u001b[38;5;124;03m\"\"\"Forward one step to next frame when using the `next` builtin.\"\"\"\u001b[39;00m\n\u001b[0;32m--> 714\u001b[0m     \u001b[38;5;28;01mreturn\u001b[39;00m \u001b[38;5;28mself\u001b[39m\u001b[38;5;241m.\u001b[39mnext()\n",
      "File \u001b[0;32m~/.local/lib/python3.11/site-packages/MDAnalysis/coordinates/base.py:700\u001b[0m, in \u001b[0;36mProtoReader.next\u001b[0;34m(self)\u001b[0m\n\u001b[1;32m    698\u001b[0m \u001b[38;5;250m\u001b[39m\u001b[38;5;124;03m\"\"\"Forward one step to next frame.\"\"\"\u001b[39;00m\n\u001b[1;32m    699\u001b[0m \u001b[38;5;28;01mtry\u001b[39;00m:\n\u001b[0;32m--> 700\u001b[0m     ts \u001b[38;5;241m=\u001b[39m \u001b[38;5;28mself\u001b[39m\u001b[38;5;241m.\u001b[39m_read_next_timestep()\n\u001b[1;32m    701\u001b[0m \u001b[38;5;28;01mexcept\u001b[39;00m (\u001b[38;5;167;01mEOFError\u001b[39;00m, \u001b[38;5;167;01mIOError\u001b[39;00m):\n\u001b[1;32m    702\u001b[0m     \u001b[38;5;28mself\u001b[39m\u001b[38;5;241m.\u001b[39mrewind()\n",
      "File \u001b[0;32m~/.local/lib/python3.11/site-packages/MDAnalysis/coordinates/XTC.py:157\u001b[0m, in \u001b[0;36mXTCReader._read_next_timestep\u001b[0;34m(self, ts)\u001b[0m\n\u001b[1;32m    155\u001b[0m     ts \u001b[38;5;241m=\u001b[39m \u001b[38;5;28mself\u001b[39m\u001b[38;5;241m.\u001b[39mts\n\u001b[1;32m    156\u001b[0m \u001b[38;5;28;01mif\u001b[39;00m ts\u001b[38;5;241m.\u001b[39mhas_positions:\n\u001b[0;32m--> 157\u001b[0m     frame \u001b[38;5;241m=\u001b[39m \u001b[38;5;28mself\u001b[39m\u001b[38;5;241m.\u001b[39m_xdr\u001b[38;5;241m.\u001b[39mread_direct_x(ts\u001b[38;5;241m.\u001b[39mpositions)\n\u001b[1;32m    158\u001b[0m \u001b[38;5;28;01melse\u001b[39;00m:\n\u001b[1;32m    159\u001b[0m     frame \u001b[38;5;241m=\u001b[39m \u001b[38;5;28mself\u001b[39m\u001b[38;5;241m.\u001b[39m_xdr\u001b[38;5;241m.\u001b[39mread()\n",
      "File \u001b[0;32m~/.local/lib/python3.11/site-packages/MDAnalysis/lib/formats/libmdaxdr.pyx:861\u001b[0m, in \u001b[0;36mMDAnalysis.lib.formats.libmdaxdr.XTCFile.read_direct_x\u001b[0;34m()\u001b[0m\n",
      "File \u001b[0;32m<string>:1\u001b[0m, in \u001b[0;36m<lambda>\u001b[0;34m(_cls, x, box, step, time, prec)\u001b[0m\n",
      "\u001b[0;31mKeyboardInterrupt\u001b[0m: "
     ]
    }
   ],
   "source": [
    "mc_upper = MembraneCurvature(w, \n",
    "                             select=\"resid 32-256 and name PO4\",\n",
    "                             n_x_bins=12, \n",
    "                             n_y_bins=12,wrap=False).run()\n",
    "\n",
    "mc_lower = MembraneCurvature(w, \n",
    "                             select='resid 257-479 and name PO4', \n",
    "                             n_x_bins=12, \n",
    "                             n_y_bins=12,wrap=False).run()"
   ]
  },
  {
   "cell_type": "code",
   "execution_count": 12,
   "id": "18f5ac98",
   "metadata": {},
   "outputs": [],
   "source": [
    "mean_upper_leaflet = mc_upper.results.average_mean\n",
    "\n",
    "mean_lower_leaflet = mc_lower.results.average_mean"
   ]
  },
  {
   "cell_type": "code",
   "execution_count": null,
   "id": "0a9051d5",
   "metadata": {},
   "outputs": [],
   "source": [
    "mean_upper_leaf = mc_upper.results.average_mean\n",
    "\n",
    "mean_lower_leaf = mc_lower.results.average_mean"
   ]
  },
  {
   "cell_type": "code",
   "execution_count": 13,
   "id": "fc3e9b25",
   "metadata": {},
   "outputs": [
    {
     "data": {
      "image/png": "[encoded data removed]",
      "text/plain": [
       "<Figure size 640x480 with 1 Axes>"
      ]
     },
     "metadata": {},
     "output_type": "display_data"
    },
    {
     "data": {
      "image/png": "[encoded data removed]",
      "text/plain": [
       "<Figure size 640x480 with 1 Axes>"
      ]
     },
     "metadata": {},
     "output_type": "display_data"
    }
   ],
   "source": [
    "import matplotlib.pyplot as plt \n",
    "fig, ax = plt.subplots(1,1)\n",
    "# plot contour with transposed arrays and set the origin to [0,0] using origin=lower\n",
    "ax.contourf(mean_upper_leaflet.T, cmap='bwr', origin='lower')\n",
    "ax.set_aspect('equal')\n",
    "ax.set_title('Basic plot: $H$ Upper Leaflet')\n",
    "plt.show();\n",
    "fig, ax = plt.subplots(1,1)\n",
    "# plot contour with transposed arrays and set the origin to [0,0] using origin=lower\n",
    "ax.contourf(mean_lower_leaflet.T, cmap='bwr', origin='lower')\n",
    "ax.set_aspect('equal')\n",
    "ax.set_title('Basic plot: $H$ Lower Leaflet')\n",
    "plt.show()\n"
   ]
  },
  {
   "cell_type": "code",
   "execution_count": 14,
   "id": "685af949",
   "metadata": {},
   "outputs": [
    {
     "ename": "NameError",
     "evalue": "name 'curvature_upper_leaflet' is not defined",
     "output_type": "error",
     "traceback": [
      "\u001b[1;31m---------------------------------------------------------------------------\u001b[0m",
      "\u001b[1;31mNameError\u001b[0m                                 Traceback (most recent call last)",
      "\u001b[1;32m~\\AppData\\Local\\Temp\\ipykernel_7036\\1188481934.py\u001b[0m in \u001b[0;36m<module>\u001b[1;34m\u001b[0m\n\u001b[1;32m----> 1\u001b[1;33m \u001b[0mcurvature_upper_leaflet\u001b[0m\u001b[1;33m.\u001b[0m\u001b[0mresults\u001b[0m\u001b[1;33m.\u001b[0m\u001b[0maverage_z_surface\u001b[0m\u001b[1;33m\u001b[0m\u001b[1;33m\u001b[0m\u001b[0m\n\u001b[0m",
      "\u001b[1;31mNameError\u001b[0m: name 'curvature_upper_leaflet' is not defined"
     ]
    }
   ],
   "source": [
    "curvature_upper_leaflet.results.average_z_surface"
   ]
  },
  {
   "cell_type": "code",
   "execution_count": 15,
   "id": "06747109",
   "metadata": {},
   "outputs": [],
   "source": [
    "gaussian_upper_leaflet = mc_upper.results.average_gaussian\n",
    "gaussian_lower_leaflet = mc_lower.results.average_gaussian"
   ]
  },
  {
   "cell_type": "code",
   "execution_count": 16,
   "id": "e423251e",
   "metadata": {},
   "outputs": [
    {
     "data": {
      "image/png": "[encoded data removed]",
      "text/plain": [
       "<Figure size 640x480 with 1 Axes>"
      ]
     },
     "metadata": {},
     "output_type": "display_data"
    },
    {
     "data": {
      "image/png": "[encoded data removed]",
      "text/plain": [
       "<Figure size 640x480 with 1 Axes>"
      ]
     },
     "metadata": {},
     "output_type": "display_data"
    }
   ],
   "source": [
    "fig, ax = plt.subplots(1,1)\n",
    "# plot contour with transposed arrays and set the origin to [0,0] using origin=lower\n",
    "ax.contourf(gaussian_upper_leaflet.T, cmap='bwr', origin='lower')\n",
    "ax.set_aspect('equal')\n",
    "ax.set_title('Basic plot: $H$ Upper Leaflet')\n",
    "plt.show();\n",
    "fig, ax = plt.subplots(1,1)\n",
    "# plot contour with transposed arrays and set the origin to [0,0] using origin=lower\n",
    "ax.contourf(gaussian_lower_leaflet.T, cmap='bwr', origin='lower')\n",
    "ax.set_aspect('equal')\n",
    "ax.set_title('Basic plot: $H$ Lower Leaflet')\n",
    "plt.show()"
   ]
  },
  {
   "cell_type": "code",
   "execution_count": 17,
   "id": "d026322e",
   "metadata": {
    "scrolled": true
   },
   "outputs": [
    {
     "ename": "NameError",
     "evalue": "name 'im' is not defined",
     "output_type": "error",
     "traceback": [
      "\u001b[1;31m---------------------------------------------------------------------------\u001b[0m",
      "\u001b[1;31mNameError\u001b[0m                                 Traceback (most recent call last)",
      "\u001b[1;32m~\\AppData\\Local\\Temp\\ipykernel_7036\\397535367.py\u001b[0m in \u001b[0;36m<module>\u001b[1;34m\u001b[0m\n\u001b[0;32m     15\u001b[0m \u001b[1;33m\u001b[0m\u001b[0m\n\u001b[0;32m     16\u001b[0m \u001b[1;31m# Afficher la figure avec les deux sous-graphiques côte à côte\u001b[0m\u001b[1;33m\u001b[0m\u001b[1;33m\u001b[0m\u001b[0m\n\u001b[1;32m---> 17\u001b[1;33m \u001b[0mcbar\u001b[0m \u001b[1;33m=\u001b[0m \u001b[0mplt\u001b[0m\u001b[1;33m.\u001b[0m\u001b[0mcolorbar\u001b[0m\u001b[1;33m(\u001b[0m\u001b[0mim\u001b[0m\u001b[1;33m,\u001b[0m \u001b[0mticks\u001b[0m\u001b[1;33m=\u001b[0m\u001b[0mtcs\u001b[0m\u001b[1;33m,\u001b[0m \u001b[0morientation\u001b[0m\u001b[1;33m=\u001b[0m\u001b[1;34m'horizontal'\u001b[0m\u001b[1;33m,\u001b[0m \u001b[0max\u001b[0m\u001b[1;33m=\u001b[0m\u001b[0max\u001b[0m\u001b[1;33m,\u001b[0m \u001b[0mshrink\u001b[0m\u001b[1;33m=\u001b[0m\u001b[1;36m0.7\u001b[0m\u001b[1;33m,\u001b[0m \u001b[0maspect\u001b[0m\u001b[1;33m=\u001b[0m\u001b[1;36m10\u001b[0m\u001b[1;33m,\u001b[0m \u001b[0mpad\u001b[0m\u001b[1;33m=\u001b[0m\u001b[1;36m0.05\u001b[0m\u001b[1;33m)\u001b[0m\u001b[1;33m\u001b[0m\u001b[1;33m\u001b[0m\u001b[0m\n\u001b[0m\u001b[0;32m     18\u001b[0m \u001b[0mcbar\u001b[0m\u001b[1;33m.\u001b[0m\u001b[0max\u001b[0m\u001b[1;33m.\u001b[0m\u001b[0mtick_params\u001b[0m\u001b[1;33m(\u001b[0m\u001b[0mlabelsize\u001b[0m\u001b[1;33m=\u001b[0m\u001b[1;36m6\u001b[0m\u001b[1;33m,\u001b[0m \u001b[0mwidth\u001b[0m\u001b[1;33m=\u001b[0m\u001b[1;36m0.5\u001b[0m\u001b[1;33m)\u001b[0m\u001b[1;33m\u001b[0m\u001b[1;33m\u001b[0m\u001b[0m\n\u001b[0;32m     19\u001b[0m \u001b[0mcbar\u001b[0m\u001b[1;33m.\u001b[0m\u001b[0mset_label\u001b[0m\u001b[1;33m(\u001b[0m\u001b[0mlabel\u001b[0m\u001b[1;33m,\u001b[0m \u001b[0mfontsize\u001b[0m\u001b[1;33m=\u001b[0m\u001b[1;36m8\u001b[0m\u001b[1;33m,\u001b[0m \u001b[0mlabelpad\u001b[0m\u001b[1;33m=\u001b[0m\u001b[1;36m2\u001b[0m\u001b[1;33m)\u001b[0m\u001b[1;33m\u001b[0m\u001b[1;33m\u001b[0m\u001b[0m\n",
      "\u001b[1;31mNameError\u001b[0m: name 'im' is not defined"
     ]
    },
    {
     "data": {
      "image/png": "[encoded data removed]",
      "text/plain": [
       "<Figure size 1200x400 with 2 Axes>"
      ]
     },
     "metadata": {},
     "output_type": "display_data"
    }
   ],
   "source": [
    "import matplotlib.pyplot as plt\n",
    "\n",
    "# Créer une figure avec 1 ligne et 2 colonnes pour les deux sous-graphiques côte à côte\n",
    "fig, (ax1, ax2) = plt.subplots(1, 2, figsize=(12, 4))\n",
    "\n",
    "# Tracé pour le premier graphique (gauche)\n",
    "ax1.contourf(mean_upper_leaflet.T, cmap='bwr', origin='lower')\n",
    "ax1.set_aspect('equal')\n",
    "ax1.set_title('$H$ : Upper Leaflet')\n",
    "\n",
    "# Tracé pour le deuxième graphique (droite)\n",
    "ax2.contourf(mean_lower_leaflet.T, cmap='bwr', origin='lower')\n",
    "ax2.set_aspect('equal')\n",
    "ax2.set_title(' $H$ : Lower Leaflet')\n",
    "\n",
    "# Afficher la figure avec les deux sous-graphiques côte à côte\n",
    "cbar = plt.colorbar(im, ticks=tcs, orientation='horizontal', ax=ax, shrink=0.7, aspect=10, pad=0.05)\n",
    "cbar.ax.tick_params(labelsize=6, width=0.5)\n",
    "cbar.set_label(label, fontsize=8, labelpad=2)\n",
    " \n",
    "max_ = np.max(abs(results[0]))\n",
    "max_abs = np.max(np.abs(rs))\n",
    "im = ax.contourf(rs.T, cmap='viridis', origin='lower', levels=levs, alpha=0.95, vmin=-max_abs, vmax=max_abs)\n",
    "cbar = plt.colorbar(im, ticks=tcs, orientation='horizontal', ax=ax, shrink=0.7, aspect=10, pad=0.05)\n",
    "\n",
    "    \n",
    "plt.tight_layout()\n",
    "plt.show()\n"
   ]
  },
  {
   "cell_type": "code",
   "execution_count": 18,
   "id": "2dca6c99",
   "metadata": {},
   "outputs": [
    {
     "data": {
      "image/png": "[encoded data removed]",
      "text/plain": [
       "<Figure size 640x480 with 1 Axes>"
      ]
     },
     "metadata": {},
     "output_type": "display_data"
    }
   ],
   "source": [
    "fig, ax = plt.subplots(1,1)\n",
    "# plot contour with transposed arrays and set the origin to [0,0] using origin=lower\n",
    "ax.contourf(mean_lower_leaflet.T, cmap='bwr', origin='lower')\n",
    "ax.set_aspect('equal')\n",
    "ax.set_title('Basic plot: $H$ Lower Leaflet')\n",
    "plt.show()"
   ]
  },
  {
   "cell_type": "code",
   "execution_count": null,
   "id": "bda8077f",
   "metadata": {},
   "outputs": [],
   "source": []
  },
  {
   "cell_type": "code",
   "execution_count": null,
   "id": "7a90b5f5",
   "metadata": {},
   "outputs": [],
   "source": []
  },
  {
   "cell_type": "code",
   "execution_count": 19,
   "id": "a38483fe",
   "metadata": {},
   "outputs": [],
   "source": [
    "from scipy import ndimage\n",
    "import matplotlib.pyplot as plt\n",
    "import numpy as np\n",
    "\n",
    "def plot_contours(results, label, levels_, cm):\n",
    "    \"\"\"\n",
    "    Function used to plot contours of MembraneCurvature results.\n",
    "    User can determine the number of contour lines / regions (levels),\n",
    "    label of the colorbar (label), and colormap (cmap).\n",
    "\n",
    "    Parameters\n",
    "    ----------\n",
    "    results: list\n",
    "        List with results by leaflets as elements [lower_leaflet, upper_leaflet]\n",
    "    label: str\n",
    "        Label to add to the colorbar.\n",
    "    levels: int\n",
    "        Determines the number of contour lines.\n",
    "    cmap: str\n",
    "        Colormap to use in the plot.\n",
    "\n",
    "    \"\"\"\n",
    "    fig, [ax1, ax2] = plt.subplots(ncols=2, figsize=(8, 4), dpi=200)\n",
    "    \n",
    "    for ax, rs, lf in zip((ax1, ax2), results, [\"Lower Leaflet\", \"Upper Leaflet\"]):\n",
    "        max_abs = np.max(np.abs(rs))\n",
    "        \n",
    "        # Calculate contour levels based on the maximum absolute value\n",
    "        #levs = np.linspace(-max_abs, max_abs, levels_)\n",
    "        \n",
    "        im = ax.contourf(rs.T, cmap='coolwarm', origin='lower',  alpha=0.95, vmin=-max_abs, vmax=max_abs)\n",
    "        \n",
    "        tcs = [-max_abs, 0, max_abs]\n",
    "        \n",
    "        ax.set_aspect('equal')\n",
    "        ax.set_title(f'{lf}', fontsize=8)\n",
    "        ax.axis('off')\n",
    "        \n",
    "        cbar = plt.colorbar(im, ticks=tcs, orientation='horizontal', ax=ax, shrink=0.7, aspect=10, pad=0.05)\n",
    "        cbar.ax.tick_params(labelsize=6, width=0.5)\n",
    "        cbar.set_label(label, fontsize=8, labelpad=2)\n",
    "    \n",
    "    plt.tight_layout()\n",
    "    plt.show()\n",
    "\n",
    "# Exemple d'utilisation :\n",
    "# plot_contours(mean_curvs, \"$H$ ($\\AA^{-1}$)\", 100, \"viridis\")\n"
   ]
  },
  {
   "cell_type": "code",
   "execution_count": 20,
   "id": "46635ac3",
   "metadata": {},
   "outputs": [],
   "source": [
    "mean_curvs = [mean_lower_leaflet, mean_upper_leaflet]"
   ]
  },
  {
   "cell_type": "code",
   "execution_count": 21,
   "id": "e8abeec2",
   "metadata": {},
   "outputs": [],
   "source": [
    "from PIL import Image"
   ]
  },
  {
   "cell_type": "code",
   "execution_count": null,
   "id": "b6797314",
   "metadata": {
    "scrolled": false
   },
   "outputs": [],
   "source": [
    "from PIL import Image\n",
    "plot_contours(mean_curvs, \"$H$ ($\\AA^{-1}$)\", 30, \"bwr\")\n",
    "#plt.savefig('temp.png')\n",
    "#img = Image.open('temp.png')\n",
    "\n",
    "    # Enregistrez l'image sous un autre nom de fichier (ou format) si nécessaire\n",
    "#img.save('C:/Users/amiel/OneDrive/Bureau/mebrane_cur_P454_PCPS.png')"
   ]
  },
  {
   "cell_type": "code",
   "execution_count": 22,
   "id": "96a5c9a8",
   "metadata": {},
   "outputs": [],
   "source": [
    "from scipy import ndimage\n",
    "import matplotlib.pyplot as plt\n",
    "import numpy as np\n",
    "\n",
    "def plot_contours(results, label, levels_, cm):\n",
    "    \"\"\"\n",
    "    Function used to plot contours of MembraneCurvature results.\n",
    "    User can determine the number of contour lines / regions (levels),\n",
    "    label of the colorbar (label), and colormap (cmap).\n",
    "\n",
    "    Parameters\n",
    "    ----------\n",
    "    results: list\n",
    "        List with results by leaflets as elements [lower_leaflet, upper_leaflet]\n",
    "    label: str\n",
    "        Label to add to the colorbar.\n",
    "    levels: int\n",
    "        Determines the number of contour lines.\n",
    "    cmap: str\n",
    "        Colormap to use in the plot.\n",
    "\n",
    "    \"\"\"\n",
    "    fig, [ax1, ax2] = plt.subplots(ncols=2, figsize=(8, 4), dpi=200)\n",
    "    \n",
    "    for ax, rs, lf in zip((ax1, ax2), results, [\"Lower Leaflet\", \"Upper Leaflet\"]):\n",
    "        max_abs = np.max(np.abs(rs))\n",
    "        \n",
    "        # Calculate contour levels based on the maximum absolute value\n",
    "        levs = np.linspace(-max_abs, max_abs, levels_)\n",
    "        \n",
    "        im = ax.contourf(rs.T, cmap=cm, origin='lower', levels=levs, alpha=0.95, vmin=-max_abs, vmax=max_abs)\n",
    "        \n",
    "        tcs = [-max_abs, 0, max_abs]\n",
    "        \n",
    "        ax.set_aspect('equal')\n",
    "        ax.set_title(f'{lf}', fontsize=8)\n",
    "        ax.axis('off')\n",
    "        \n",
    "        # Ajustez ici les couleurs de la colormap pour améliorer le contraste\n",
    "        # Exemple : changer la colormap en 'viridis'\n",
    "        # im = ax.contourf(rs.T, cmap='viridis', origin='lower', levels=levs, alpha=0.95, vmin=-max_abs, vmax=max_abs)\n",
    "        \n",
    "        cbar = plt.colorbar(im, ticks=tcs, orientation='horizontal', ax=ax, shrink=0.7, aspect=10, pad=0.05)\n",
    "        cbar.ax.tick_params(labelsize=6, width=0.5)\n",
    "        cbar.set_label(label, fontsize=8, labelpad=2)\n",
    "    \n",
    "    plt.tight_layout()\n",
    "    plt.show()\n",
    "\n",
    "# Exemple d'utilisation :\n",
    "# plot_contours(mean_curvs, \"$H$ ($\\AA^{-1}$)\", 50, \"bwr\")\n"
   ]
  },
  {
   "cell_type": "code",
   "execution_count": null,
   "id": "91cceaa5",
   "metadata": {},
   "outputs": [],
   "source": [
    "from scipy import ndimage\n",
    "import matplotlib.pyplot as plt\n",
    "import numpy as np\n",
    "\n",
    "def plot_contours(results, label, levels_, cm):\n",
    "    \"\"\"\n",
    "    Function used to plot contours of MembraneCurvature results.\n",
    "    User can determine the number of contour lines / regions (levels),\n",
    "    label of the colorbar (label), and colormap (cmap).\n",
    "\n",
    "    Parameters\n",
    "    ----------\n",
    "    results: list\n",
    "        List with results by leaflets as elements [lower_leaflet, upper_leaflet]\n",
    "    label: str\n",
    "        Label to add to the colorbar.\n",
    "    levels: int\n",
    "        Determines the number of contour lines.\n",
    "    cmap: str\n",
    "        Colormap to use in the plot.\n",
    "\n",
    "    \"\"\"\n",
    "    fig, [ax1, ax2] = plt.subplots(ncols=2, figsize=(8, 4), dpi=200)\n",
    "    \n",
    "    for ax, rs, lf in zip((ax1, ax2), results, [\"Lower Leaflet\", \"Upper Leaflet\"]):\n",
    "        max_abs = np.max(np.abs(rs))\n",
    "        \n",
    "        # Calculate contour levels based on the maximum absolute value\n",
    "        levs = np.linspace(-max_abs, max_abs, levels_)\n",
    "        \n",
    "        im = ax.contourf(rs.T, cmap=cm, origin='lower', levels=levs, alpha=0.95, vmin=-max_abs, vmax=max_abs)\n",
    "        \n",
    "        tcs = [-max_abs, 0, max_abs]\n",
    "        \n",
    "        ax.set_aspect('equal')\n",
    "        ax.set_title(f'{lf}', fontsize=8)\n",
    "        ax.axis('off')\n",
    "        \n",
    "        cbar = plt.colorbar(im, ticks=tcs, orientation='horizontal', ax=ax, shrink=0.7, aspect=10, pad=0.05)\n",
    "        cbar.ax.tick_params(labelsize=6, width=0.5)\n",
    "        cbar.set_label(label, fontsize=8, labelpad=2)\n",
    "    \n",
    "    plt.tight_layout()\n",
    "    plt.show()\n",
    "\n",
    "# Exemple d'utilisation :\n",
    "# plot_contours(mean_curvs, \"$H$ ($\\AA^{-1}$)\", 50, \"bwr\")\n"
   ]
  },
  {
   "cell_type": "code",
   "execution_count": null,
   "id": "8631ad58",
   "metadata": {},
   "outputs": [],
   "source": [
    "import matplotlib.pyplot as plt\n",
    "import numpy as np\n",
    "\n",
    "\n",
    "\n",
    "label = \"$H$ ($\\AA^{-1}$)\"\n",
    "levels_ = 50\n",
    "cm = 'bwr'\n",
    "\n",
    "# Créez une figure avec une rangée et un nombre de colonnes égal au nombre de tableaux\n",
    "num_plots = len(mean_curvs)\n",
    "fig, axes = plt.subplots(1, num_plots, figsize=(6 * num_plots, 6))\n",
    "\n",
    "for i in range(num_plots):\n",
    "    ax = axes[i]\n",
    "    rs = mean_curvs[i]\n",
    "\n",
    "    # Calcul des niveaux de contour avec un ordre croissant\n",
    "    min_val = np.min(rs)\n",
    "    max_val = np.max(rs)\n",
    "    levs = np.linspace(min_val, max_val, levels_)\n",
    "\n",
    "    # Tracé du contour avec les niveaux triés\n",
    "    im = ax.contourf(rs.T, cmap=cm, origin='lower', levels=levs, alpha=0.95, vmin=min_val, vmax=max_val)\n",
    "    tcs = [min_val, max_val]\n",
    "\n",
    "    # Titre pour chaque sous-graphique\n",
    "    ax.set_aspect('equal')\n",
    "    ax.set_title(f'Plot {i + 1}: {label}')\n",
    "\n",
    "# Afficher la figure avec les sous-graphiques côte à côte\n",
    "plt.tight_layout()\n",
    "plt.show()\n",
    "\n"
   ]
  },
  {
   "cell_type": "code",
   "execution_count": null,
   "id": "da99eae1",
   "metadata": {},
   "outputs": [],
   "source": [
    "import matplotlib.pyplot as plt\n",
    "import numpy as np\n",
    "\n",
    "# Vos données\n",
    "\n",
    "\n",
    "label = \"$H$ ($\\AA^{-1}$)\"\n",
    "levels_ = 50\n",
    "cm = 'bwr'\n",
    "\n",
    "# Créez une figure avec une rangée et un nombre de colonnes égal au nombre de tableaux\n",
    "num_plots = len(mean_curvs)\n",
    "fig, axes = plt.subplots(1, num_plots, figsize=(6 * num_plots, 6))\n",
    "\n",
    "for i in range(num_plots):\n",
    "    ax = axes[i]\n",
    "    rs = mean_curvs[i]\n",
    "\n",
    "    # Calcul des niveaux de contour avec un ordre croissant\n",
    "    min_val = np.min(rs)\n",
    "    max_val = np.max(rs)\n",
    "    levs = np.linspace(min_val, max_val, levels_)\n",
    "\n",
    "    # Tracé du contour avec les niveaux triés\n",
    "    im = ax.contourf(rs.T, cmap=cm, origin='lower', levels=levs, alpha=0.95, vmin=min_val, vmax=max_val)\n",
    "    tcs = [min_val, max_val]\n",
    "\n",
    "    # Titre pour chaque sous-graphique\n",
    "    ax.set_aspect('equal')\n",
    "    ax.set_title(f'Plot {i + 1}: {label}')\n",
    "\n",
    "    # Ajouter des axes\n",
    "    ax.set_xlabel('X Label')\n",
    "    ax.set_ylabel('Y Label')\n",
    "\n",
    "# Afficher la figure avec les sous-graphiques côte à côte\n",
    "plt.tight_layout()\n",
    "plt.show()\n"
   ]
  },
  {
   "cell_type": "code",
   "execution_count": null,
   "id": "3eb3c0d2",
   "metadata": {},
   "outputs": [],
   "source": [
    "# surface\n",
    "surf_upper = mc_upper.results.average_z_surface\n",
    "surf_lower = mc_lower.results.average_z_surface\n",
    "\n",
    "# mean curvature\n",
    "mean_upper = mc_upper.results.average_mean\n",
    "mean_lower = mc_lower.results.average_mean\n",
    "\n",
    "# Gaussian curvature\n",
    "gauss_upper = mc_upper.results.average_gaussian\n",
    "gauss_lower = mc_lower.results.average_gaussian"
   ]
  },
  {
   "cell_type": "code",
   "execution_count": 23,
   "id": "a9baa73a",
   "metadata": {},
   "outputs": [
    {
     "ename": "SyntaxError",
     "evalue": "positional argument follows keyword argument (3634680517.py, line 19)",
     "output_type": "error",
     "traceback": [
      "\u001b[1;36m  File \u001b[1;32m\"C:\\Users\\amiel\\AppData\\Local\\Temp\\ipykernel_7036\\3634680517.py\"\u001b[1;36m, line \u001b[1;32m19\u001b[0m\n\u001b[1;33m    ax.set_title('{} Leaflet'.format(lf), fontsize=6)\u001b[0m\n\u001b[1;37m    ^\u001b[0m\n\u001b[1;31mSyntaxError\u001b[0m\u001b[1;31m:\u001b[0m positional argument follows keyword argument\n"
     ]
    }
   ],
   "source": [
    "import matplotlib.pyplot as plt\n",
    "from scipy import ndimage\n",
    "import numpy as np\n",
    "\n",
    "results = [mean_lower, mean_upper]\n",
    "leaflets = [\"Lower\", \"Upper\"]\n",
    "\n",
    "fig, [ax1, ax2] = plt.subplots(ncols=2, figsize=(4,3.5))\n",
    "#max_ = max([np.max(abs(h)) for h in results])\n",
    "\n",
    "for ax, rs, lf in zip((ax1, ax2), results, leaflets):\n",
    "    rs = ndimage.zoom(rs, 4, mode='wrap', order=1)\n",
    "    levs = np.linspace(-max_, max_, 40)\n",
    "    im = ax.contourf(rs, cmap='bwr', \n",
    "                     origin='lower', levels=levs,\n",
    "                     #vmin=-max_, vmax=max_)\n",
    "\n",
    "    ax.set_aspect('equal')\n",
    "    ax.set_title('{} Leaflet'.format(lf), fontsize=6)\n",
    "    ax.axis('off')\n",
    "\n",
    "cbar = plt.colorbar(im, ticks=[-max_, 0, max_], \n",
    "                    orientation='vertical', \n",
    "                    ax=[ax1, ax2], shrink=0.4, \n",
    "                    aspect=10, pad=0.05)\n",
    "cbar.ax.tick_params(labelsize=4, width=0.5)\n",
    "cbar.set_label('H (nm$^{-1}$)', fontsize=6, labelpad=2)"
   ]
  }
 ],
 "metadata": {
  "kernelspec": {
   "display_name": "Python 3 (ipykernel)",
   "language": "python",
   "name": "python3"
  },
  "language_info": {
   "codemirror_mode": {
    "name": "ipython",
    "version": 3
   },
   "file_extension": ".py",
   "mimetype": "text/x-python",
   "name": "python",
   "nbconvert_exporter": "python",
   "pygments_lexer": "ipython3",
   "version": "3.11.4"
  }
 },
 "nbformat": 4,
 "nbformat_minor": 5
}
