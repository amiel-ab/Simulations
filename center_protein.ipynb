{
 "cells": [
  {
   "cell_type": "markdown",
   "id": "af8cffeb",
   "metadata": {},
   "source": [
    "# Center Protein in Box"
   ]
  },
  {
   "cell_type": "code",
   "execution_count": 1,
   "id": "32b92df2",
   "metadata": {},
   "outputs": [],
   "source": [
    "import numpy as np\n",
    "import MDAnalysis\n",
    "import pandas as pd\n",
    "from tqdm.notebook import tqdm_notebook\n",
    "import time"
   ]
  },
  {
   "cell_type": "code",
   "execution_count": 26,
   "id": "8d9113a5",
   "metadata": {},
   "outputs": [],
   "source": [
    "## STRUCTURE NEEDS TO BE A TPR\n",
    "structure = 'prodreplic2m3.tpr'\n",
    "trajectory = 'prodreplic2m3.xtc'\n",
    "out = 'translated.xtc'"
   ]
  },
  {
   "cell_type": "code",
   "execution_count": 27,
   "id": "e18fbb43",
   "metadata": {},
   "outputs": [],
   "source": [
    "u = MDAnalysis.Universe(structure, trajectory)\n",
    "allatoms=u.select_atoms(\"all\")\n",
    "pep=u.residues[:31]"
   ]
  },
  {
   "cell_type": "code",
   "execution_count": 31,
   "id": "2847b064",
   "metadata": {},
   "outputs": [
    {
     "name": "stdout",
     "output_type": "stream",
     "text": [
      "[49.80333047 60.3318956  73.8530112 ]\n"
     ]
    },
    {
     "data": {
      "application/vnd.jupyter.widget-view+json": {
       "model_id": "447581c51ed446be9612dc8542e24cf5",
       "version_major": 2,
       "version_minor": 0
      },
      "text/plain": [
       "  0%|          | 0/5 [00:00<?, ?it/s]"
      ]
     },
     "metadata": {},
     "output_type": "display_data"
    }
   ],
   "source": [
    "universe = u.select_atoms(\"all\")\n",
    "\n",
    "print(pep.center_of_mass())\n",
    "with tqdm_notebook(total=len(u.trajectory[:5])) as pbar:\n",
    "    with MDAnalysis.Writer(out, universe.n_atoms) as w:\n",
    "        for ts in u.trajectory[:5]:\n",
    "\n",
    "            universe.unwrap(compound=\"residues\")\n",
    "            dim = ts.triclinic_dimensions\n",
    "            box_center = np.sum(dim, axis=0) / 2\n",
    "            \n",
    "            u.atoms.translate([(box_center[0]-pep.center_of_mass()[0]),(box_center[1]-pep.center_of_mass()[1]), 0])\n",
    "            universe.wrap(compound=\"residues\")\n",
    "            w.write(universe)\n",
    "\n",
    "            pbar.update(1)"
   ]
  },
  {
   "cell_type": "code",
   "execution_count": 38,
   "id": "96480fd1",
   "metadata": {},
   "outputs": [],
   "source": [
    "def center_peptide(universe, peptide, output, skip=1):\n",
    "    selection = u.select_atoms(\"all\")\n",
    "\n",
    "    with tqdm_notebook(total=len(universe.trajectory[::skip])) as pbar:\n",
    "        with MDAnalysis.Writer(output, selection.n_atoms) as w:\n",
    "            for ts in universe.trajectory[::skip]:\n",
    "\n",
    "                selection.unwrap(compound=\"residues\")\n",
    "                dim = ts.triclinic_dimensions\n",
    "                box_center = np.sum(dim, axis=0) / 2\n",
    "\n",
    "                universe.atoms.translate([(box_center[0]-pep.center_of_mass()[0]),(box_center[1]-pep.center_of_mass()[1]), 0])\n",
    "                selection.wrap(compound=\"residues\")\n",
    "                w.write(selection)\n",
    "\n",
    "                pbar.update(1)"
   ]
  },
  {
   "cell_type": "code",
   "execution_count": 39,
   "id": "2fe07179",
   "metadata": {},
   "outputs": [
    {
     "data": {
      "application/vnd.jupyter.widget-view+json": {
       "model_id": "670a9d3289e244ec8af8a9cd23f9e0e0",
       "version_major": 2,
       "version_minor": 0
      },
      "text/plain": [
       "  0%|          | 0/21 [00:00<?, ?it/s]"
      ]
     },
     "metadata": {},
     "output_type": "display_data"
    },
    {
     "ename": "ValueError",
     "evalue": "AtomGroup was not contiguous from bonds, process failed",
     "output_type": "error",
     "traceback": [
      "\u001b[0;31m---------------------------------------------------------------------------\u001b[0m",
      "\u001b[0;31mValueError\u001b[0m                                Traceback (most recent call last)",
      "\u001b[0;32m/tmp/ipykernel_2779583/3341965797.py\u001b[0m in \u001b[0;36m<module>\u001b[0;34m\u001b[0m\n\u001b[0;32m----> 1\u001b[0;31m \u001b[0mcenter_peptide\u001b[0m\u001b[0;34m(\u001b[0m\u001b[0mu\u001b[0m\u001b[0;34m,\u001b[0m \u001b[0mu\u001b[0m\u001b[0;34m.\u001b[0m\u001b[0mresidues\u001b[0m\u001b[0;34m[\u001b[0m\u001b[0;34m:\u001b[0m\u001b[0;36m31\u001b[0m\u001b[0;34m]\u001b[0m\u001b[0;34m,\u001b[0m \u001b[0;34m\"translate_peptide1.xtc\"\u001b[0m\u001b[0;34m,\u001b[0m \u001b[0mskip\u001b[0m\u001b[0;34m=\u001b[0m\u001b[0;36m500\u001b[0m\u001b[0;34m)\u001b[0m\u001b[0;34m\u001b[0m\u001b[0;34m\u001b[0m\u001b[0m\n\u001b[0m",
      "\u001b[0;32m/tmp/ipykernel_2779583/3516948751.py\u001b[0m in \u001b[0;36mcenter_peptide\u001b[0;34m(universe, peptide, output, skip)\u001b[0m\n\u001b[1;32m      6\u001b[0m             \u001b[0;32mfor\u001b[0m \u001b[0mts\u001b[0m \u001b[0;32min\u001b[0m \u001b[0muniverse\u001b[0m\u001b[0;34m.\u001b[0m\u001b[0mtrajectory\u001b[0m\u001b[0;34m[\u001b[0m\u001b[0;34m:\u001b[0m\u001b[0;34m:\u001b[0m\u001b[0mskip\u001b[0m\u001b[0;34m]\u001b[0m\u001b[0;34m:\u001b[0m\u001b[0;34m\u001b[0m\u001b[0;34m\u001b[0m\u001b[0m\n\u001b[1;32m      7\u001b[0m \u001b[0;34m\u001b[0m\u001b[0m\n\u001b[0;32m----> 8\u001b[0;31m                 \u001b[0mselection\u001b[0m\u001b[0;34m.\u001b[0m\u001b[0munwrap\u001b[0m\u001b[0;34m(\u001b[0m\u001b[0mcompound\u001b[0m\u001b[0;34m=\u001b[0m\u001b[0;34m\"residues\"\u001b[0m\u001b[0;34m)\u001b[0m\u001b[0;34m\u001b[0m\u001b[0;34m\u001b[0m\u001b[0m\n\u001b[0m\u001b[1;32m      9\u001b[0m                 \u001b[0mdim\u001b[0m \u001b[0;34m=\u001b[0m \u001b[0mts\u001b[0m\u001b[0;34m.\u001b[0m\u001b[0mtriclinic_dimensions\u001b[0m\u001b[0;34m\u001b[0m\u001b[0;34m\u001b[0m\u001b[0m\n\u001b[1;32m     10\u001b[0m                 \u001b[0mbox_center\u001b[0m \u001b[0;34m=\u001b[0m \u001b[0mnp\u001b[0m\u001b[0;34m.\u001b[0m\u001b[0msum\u001b[0m\u001b[0;34m(\u001b[0m\u001b[0mdim\u001b[0m\u001b[0;34m,\u001b[0m \u001b[0maxis\u001b[0m\u001b[0;34m=\u001b[0m\u001b[0;36m0\u001b[0m\u001b[0;34m)\u001b[0m \u001b[0;34m/\u001b[0m \u001b[0;36m2\u001b[0m\u001b[0;34m\u001b[0m\u001b[0;34m\u001b[0m\u001b[0m\n",
      "\u001b[0;32m/softwares/Anaconda3/2021.11/lib/python3.9/site-packages/MDAnalysis/core/groups.py\u001b[0m in \u001b[0;36munwrap\u001b[0;34m(self, compound, reference, inplace)\u001b[0m\n\u001b[1;32m   1703\u001b[0m                 \u001b[0mmask\u001b[0m \u001b[0;34m=\u001b[0m \u001b[0mnp\u001b[0m\u001b[0;34m.\u001b[0m\u001b[0mwhere\u001b[0m\u001b[0;34m(\u001b[0m\u001b[0mcompound_indices\u001b[0m \u001b[0;34m==\u001b[0m \u001b[0mi\u001b[0m\u001b[0;34m)\u001b[0m\u001b[0;34m\u001b[0m\u001b[0;34m\u001b[0m\u001b[0m\n\u001b[1;32m   1704\u001b[0m                 \u001b[0mc\u001b[0m \u001b[0;34m=\u001b[0m \u001b[0munique_atoms\u001b[0m\u001b[0;34m[\u001b[0m\u001b[0mmask\u001b[0m\u001b[0;34m]\u001b[0m\u001b[0;34m\u001b[0m\u001b[0;34m\u001b[0m\u001b[0m\n\u001b[0;32m-> 1705\u001b[0;31m                 \u001b[0mpositions\u001b[0m\u001b[0;34m[\u001b[0m\u001b[0mmask\u001b[0m\u001b[0;34m]\u001b[0m \u001b[0;34m=\u001b[0m \u001b[0mmdamath\u001b[0m\u001b[0;34m.\u001b[0m\u001b[0mmake_whole\u001b[0m\u001b[0;34m(\u001b[0m\u001b[0mc\u001b[0m\u001b[0;34m,\u001b[0m \u001b[0minplace\u001b[0m\u001b[0;34m=\u001b[0m\u001b[0;32mFalse\u001b[0m\u001b[0;34m)\u001b[0m\u001b[0;34m\u001b[0m\u001b[0;34m\u001b[0m\u001b[0m\n\u001b[0m\u001b[1;32m   1706\u001b[0m                 \u001b[0;31m# Apply reference shift if required:\u001b[0m\u001b[0;34m\u001b[0m\u001b[0;34m\u001b[0m\u001b[0m\n\u001b[1;32m   1707\u001b[0m                 \u001b[0;32mif\u001b[0m \u001b[0mreference\u001b[0m \u001b[0;32mis\u001b[0m \u001b[0;32mnot\u001b[0m \u001b[0;32mNone\u001b[0m\u001b[0;34m:\u001b[0m\u001b[0;34m\u001b[0m\u001b[0;34m\u001b[0m\u001b[0m\n",
      "\u001b[0;32mMDAnalysis/lib/_cutil.pyx\u001b[0m in \u001b[0;36mMDAnalysis.lib._cutil.make_whole\u001b[0;34m()\u001b[0m\n",
      "\u001b[0;31mValueError\u001b[0m: AtomGroup was not contiguous from bonds, process failed"
     ]
    }
   ],
   "source": [
    "center_peptide(u, u.residues[:31], \"translate_peptide1.xtc\", skip=500)"
   ]
  },
  {
   "cell_type": "code",
   "execution_count": null,
   "id": "5dc3f3cd",
   "metadata": {},
   "outputs": [],
   "source": [
    "center_peptide(u, u.residues[31:62], \"translate_peptide2.xtc\", skip=100)"
   ]
  }
 ],
 "metadata": {
  "kernelspec": {
   "display_name": "Python 3 (ipykernel)",
   "language": "python",
   "name": "python3"
  },
  "language_info": {
   "codemirror_mode": {
    "name": "ipython",
    "version": 3
   },
   "file_extension": ".py",
   "mimetype": "text/x-python",
   "name": "python",
   "nbconvert_exporter": "python",
   "pygments_lexer": "ipython3",
   "version": "3.9.7"
  }
 },
 "nbformat": 4,
 "nbformat_minor": 5
}
